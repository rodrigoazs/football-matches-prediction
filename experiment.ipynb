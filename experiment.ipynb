{
 "cells": [
  {
   "cell_type": "code",
   "execution_count": 1,
   "id": "f00aeedf-799e-43f7-a2aa-aa45cdb3ad2b",
   "metadata": {},
   "outputs": [],
   "source": [
    "import random\n",
    "\n",
    "import numpy as np\n",
    "from sklearn.metrics import accuracy_score\n",
    "\n",
    "from src.dataset import get_dataset\n",
    "from src.models.elog import ELOgPredictor\n",
    "from src.models.frequency_random import FrequencyRandomMatchPredictor\n",
    "from src.models.uniform_random import UniformRandomMatchPredictor"
   ]
  },
  {
   "cell_type": "code",
   "execution_count": 11,
   "id": "a77baa50-bafc-43e0-9563-d62708af0b4b",
   "metadata": {},
   "outputs": [],
   "source": [
    "ITERATIONS = 1\n",
    "random.seed(5438)\n",
    "np.random.seed(5438)"
   ]
  },
  {
   "cell_type": "code",
   "execution_count": 12,
   "id": "74587b4c-d57a-43b6-b962-3df78ffe3691",
   "metadata": {},
   "outputs": [],
   "source": [
    "def determine_target(row):\n",
    "    if row[\"home_score\"] > row[\"away_score\"]:\n",
    "        return 0\n",
    "    elif row[\"home_score\"] == row[\"away_score\"]:\n",
    "        return 1\n",
    "    else:\n",
    "        return 2"
   ]
  },
  {
   "cell_type": "code",
   "execution_count": 13,
   "id": "4cd9fae8-e845-4e95-8536-43b497d391ed",
   "metadata": {},
   "outputs": [
    {
     "name": "stderr",
     "output_type": "stream",
     "text": [
      "/mnt/c/Personal/football-matches-prediction/src/dataset.py:43: DtypeWarning: Columns (11,14,50,102,123,125,129,131,133,135,137,139,141,143,145,147,149,157,158,160,161,163,165,167,169,171,173,184,186,187,205,206) have mixed types. Specify dtype option on import or set low_memory=False.\n",
      "  mls_df = pd.read_csv(\"data/mls_matches.csv\")\n"
     ]
    }
   ],
   "source": [
    "dataset = get_dataset()"
   ]
  },
  {
   "cell_type": "code",
   "execution_count": 14,
   "id": "27d88036-fe00-4eab-b302-1c7b5758e176",
   "metadata": {},
   "outputs": [
    {
     "data": {
      "text/html": [
       "<div>\n",
       "<style scoped>\n",
       "    .dataframe tbody tr th:only-of-type {\n",
       "        vertical-align: middle;\n",
       "    }\n",
       "\n",
       "    .dataframe tbody tr th {\n",
       "        vertical-align: top;\n",
       "    }\n",
       "\n",
       "    .dataframe thead th {\n",
       "        text-align: right;\n",
       "    }\n",
       "</style>\n",
       "<table border=\"1\" class=\"dataframe\">\n",
       "  <thead>\n",
       "    <tr style=\"text-align: right;\">\n",
       "      <th></th>\n",
       "      <th>date</th>\n",
       "      <th>home_team</th>\n",
       "      <th>home_score</th>\n",
       "      <th>away_score</th>\n",
       "      <th>away_team</th>\n",
       "      <th>neutral</th>\n",
       "      <th>fold</th>\n",
       "    </tr>\n",
       "  </thead>\n",
       "  <tbody>\n",
       "    <tr>\n",
       "      <th>0</th>\n",
       "      <td>1971-08-07</td>\n",
       "      <td>Santa Cruz</td>\n",
       "      <td>1</td>\n",
       "      <td>4</td>\n",
       "      <td>Corinthians</td>\n",
       "      <td>False</td>\n",
       "      <td>brazil</td>\n",
       "    </tr>\n",
       "    <tr>\n",
       "      <th>1</th>\n",
       "      <td>1971-08-07</td>\n",
       "      <td>Internacional</td>\n",
       "      <td>0</td>\n",
       "      <td>0</td>\n",
       "      <td>Fluminense</td>\n",
       "      <td>False</td>\n",
       "      <td>brazil</td>\n",
       "    </tr>\n",
       "    <tr>\n",
       "      <th>2</th>\n",
       "      <td>1971-08-07</td>\n",
       "      <td>Palmeiras</td>\n",
       "      <td>1</td>\n",
       "      <td>0</td>\n",
       "      <td>Portuguesa-SP</td>\n",
       "      <td>False</td>\n",
       "      <td>brazil</td>\n",
       "    </tr>\n",
       "    <tr>\n",
       "      <th>3</th>\n",
       "      <td>1971-08-07</td>\n",
       "      <td>Ceará</td>\n",
       "      <td>0</td>\n",
       "      <td>0</td>\n",
       "      <td>Vasco da Gama</td>\n",
       "      <td>False</td>\n",
       "      <td>brazil</td>\n",
       "    </tr>\n",
       "    <tr>\n",
       "      <th>4</th>\n",
       "      <td>1971-08-07</td>\n",
       "      <td>Coritiba</td>\n",
       "      <td>0</td>\n",
       "      <td>2</td>\n",
       "      <td>Cruzeiro</td>\n",
       "      <td>False</td>\n",
       "      <td>brazil</td>\n",
       "    </tr>\n",
       "    <tr>\n",
       "      <th>...</th>\n",
       "      <td>...</td>\n",
       "      <td>...</td>\n",
       "      <td>...</td>\n",
       "      <td>...</td>\n",
       "      <td>...</td>\n",
       "      <td>...</td>\n",
       "      <td>...</td>\n",
       "    </tr>\n",
       "    <tr>\n",
       "      <th>143000</th>\n",
       "      <td>2017-07-06</td>\n",
       "      <td>Grenada</td>\n",
       "      <td>0</td>\n",
       "      <td>2</td>\n",
       "      <td>Barbados</td>\n",
       "      <td>False</td>\n",
       "      <td>international</td>\n",
       "    </tr>\n",
       "    <tr>\n",
       "      <th>143001</th>\n",
       "      <td>2016-08-25</td>\n",
       "      <td>Barawa</td>\n",
       "      <td>0</td>\n",
       "      <td>5</td>\n",
       "      <td>Tamil Eelam</td>\n",
       "      <td>False</td>\n",
       "      <td>international</td>\n",
       "    </tr>\n",
       "    <tr>\n",
       "      <th>143002</th>\n",
       "      <td>2016-08-26</td>\n",
       "      <td>Barawa</td>\n",
       "      <td>2</td>\n",
       "      <td>3</td>\n",
       "      <td>Chagos Islands</td>\n",
       "      <td>False</td>\n",
       "      <td>international</td>\n",
       "    </tr>\n",
       "    <tr>\n",
       "      <th>143003</th>\n",
       "      <td>2016-08-28</td>\n",
       "      <td>Chagos Islands</td>\n",
       "      <td>1</td>\n",
       "      <td>5</td>\n",
       "      <td>Tamil Eelam</td>\n",
       "      <td>True</td>\n",
       "      <td>international</td>\n",
       "    </tr>\n",
       "    <tr>\n",
       "      <th>143004</th>\n",
       "      <td>1904-05-01</td>\n",
       "      <td>Belgium</td>\n",
       "      <td>3</td>\n",
       "      <td>3</td>\n",
       "      <td>France</td>\n",
       "      <td>False</td>\n",
       "      <td>international</td>\n",
       "    </tr>\n",
       "  </tbody>\n",
       "</table>\n",
       "<p>143005 rows × 7 columns</p>\n",
       "</div>"
      ],
      "text/plain": [
       "              date       home_team  home_score  away_score       away_team  \\\n",
       "0       1971-08-07      Santa Cruz           1           4     Corinthians   \n",
       "1       1971-08-07   Internacional           0           0      Fluminense   \n",
       "2       1971-08-07       Palmeiras           1           0   Portuguesa-SP   \n",
       "3       1971-08-07           Ceará           0           0   Vasco da Gama   \n",
       "4       1971-08-07        Coritiba           0           2        Cruzeiro   \n",
       "...            ...             ...         ...         ...             ...   \n",
       "143000  2017-07-06         Grenada           0           2        Barbados   \n",
       "143001  2016-08-25          Barawa           0           5     Tamil Eelam   \n",
       "143002  2016-08-26          Barawa           2           3  Chagos Islands   \n",
       "143003  2016-08-28  Chagos Islands           1           5     Tamil Eelam   \n",
       "143004  1904-05-01         Belgium           3           3          France   \n",
       "\n",
       "        neutral           fold  \n",
       "0         False         brazil  \n",
       "1         False         brazil  \n",
       "2         False         brazil  \n",
       "3         False         brazil  \n",
       "4         False         brazil  \n",
       "...         ...            ...  \n",
       "143000    False  international  \n",
       "143001    False  international  \n",
       "143002    False  international  \n",
       "143003     True  international  \n",
       "143004    False  international  \n",
       "\n",
       "[143005 rows x 7 columns]"
      ]
     },
     "execution_count": 14,
     "metadata": {},
     "output_type": "execute_result"
    }
   ],
   "source": [
    "dataset"
   ]
  },
  {
   "cell_type": "code",
   "execution_count": 15,
   "id": "34eddc07-fc95-411c-a2a8-01c00506926b",
   "metadata": {},
   "outputs": [],
   "source": [
    "model_classes = [ELOgPredictor]\n",
    "# FrequencyRandomMatchPredictor, UniformRandomMatchPredictor, ]\n",
    "folds_names = [\"brazil\", \"libertadores\", \"mls\", \"europe\", \"international\"]"
   ]
  },
  {
   "cell_type": "code",
   "execution_count": 16,
   "id": "2c1c37d3-e1ea-41cc-bf31-cbc666085b33",
   "metadata": {},
   "outputs": [],
   "source": [
    "folds_train = [dataset[dataset[\"fold\"] != name] for name in folds_names]\n",
    "folds_test = [dataset[dataset[\"fold\"] == name] for name in folds_names]"
   ]
  },
  {
   "cell_type": "code",
   "execution_count": 17,
   "id": "26ada231-a93f-4f2f-8ec8-2e8d63fbf771",
   "metadata": {},
   "outputs": [],
   "source": [
    "results = {\n",
    "    \"accuracy\": {\n",
    "        model_class.__name__: {name: [] for name in folds_names}\n",
    "        for model_class in model_classes\n",
    "    },\n",
    "}"
   ]
  },
  {
   "cell_type": "code",
   "execution_count": 18,
   "id": "73bc67b1-64d9-4676-b962-3a6f6bfa22ea",
   "metadata": {},
   "outputs": [],
   "source": [
    "for _ in range(ITERATIONS):\n",
    "    for model_class in model_classes:\n",
    "        for fold_train, fold_test, fold_test_name in zip(\n",
    "            folds_train, folds_test, folds_names\n",
    "        ):\n",
    "            model = model_class()\n",
    "            model.fit(fold_train)\n",
    "            pred = model.predict(fold_test)\n",
    "            target = fold_test.apply(determine_target, axis=1)\n",
    "            results[\"accuracy\"][model_class.__name__][fold_test_name].append(\n",
    "                accuracy_score(target, pred)\n",
    "            )"
   ]
  },
  {
   "cell_type": "code",
   "execution_count": 19,
   "id": "82a645f0-d578-4244-a528-b2c5cfa0f4b7",
   "metadata": {},
   "outputs": [
    {
     "data": {
      "text/plain": [
       "{'accuracy': {'ELOgPredictor': {'brazil': [0.5037941809032991],\n",
       "   'libertadores': [0.5451327433628319],\n",
       "   'mls': [0.5174921114007408],\n",
       "   'europe': [0.5084704192288152],\n",
       "   'international': [0.5744605144734914]}}}"
      ]
     },
     "execution_count": 19,
     "metadata": {},
     "output_type": "execute_result"
    }
   ],
   "source": [
    "results"
   ]
  },
  {
   "cell_type": "code",
   "execution_count": null,
   "id": "8f04872f-22d9-46d9-b2fc-f04932fd987e",
   "metadata": {},
   "outputs": [],
   "source": []
  }
 ],
 "metadata": {
  "kernelspec": {
   "display_name": "Python 3 (ipykernel)",
   "language": "python",
   "name": "python3"
  },
  "language_info": {
   "codemirror_mode": {
    "name": "ipython",
    "version": 3
   },
   "file_extension": ".py",
   "mimetype": "text/x-python",
   "name": "python",
   "nbconvert_exporter": "python",
   "pygments_lexer": "ipython3",
   "version": "3.12.3"
  }
 },
 "nbformat": 4,
 "nbformat_minor": 5
}
