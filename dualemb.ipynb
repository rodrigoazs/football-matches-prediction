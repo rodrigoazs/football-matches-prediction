{
 "cells": [
  {
   "cell_type": "code",
   "execution_count": 1,
   "id": "f00aeedf-799e-43f7-a2aa-aa45cdb3ad2b",
   "metadata": {},
   "outputs": [],
   "source": [
    "import random\n",
    "\n",
    "import numpy as np\n",
    "import pandas as pd\n",
    "\n",
    "from src.dataset import get_dataset\n",
    "from src.models.dualemb import DualEmbPredictor"
   ]
  },
  {
   "cell_type": "code",
   "execution_count": 2,
   "id": "a77baa50-bafc-43e0-9563-d62708af0b4b",
   "metadata": {},
   "outputs": [],
   "source": [
    "ITERATIONS = 1\n",
    "random.seed(5438)\n",
    "np.random.seed(5438)"
   ]
  },
  {
   "cell_type": "code",
   "execution_count": 3,
   "id": "4cd9fae8-e845-4e95-8536-43b497d391ed",
   "metadata": {},
   "outputs": [
    {
     "name": "stderr",
     "output_type": "stream",
     "text": [
      "/mnt/c/Personal/football-matches-prediction/src/dataset.py:47: DtypeWarning: Columns (11,14,50,102,123,125,129,131,133,135,137,139,141,143,145,147,149,157,158,160,161,163,165,167,169,171,173,184,186,187,205,206) have mixed types. Specify dtype option on import or set low_memory=False.\n",
      "  mls_df = pd.read_csv(\"data/mls_matches.csv\")\n"
     ]
    }
   ],
   "source": [
    "dataset = get_dataset()"
   ]
  },
  {
   "cell_type": "code",
   "execution_count": 4,
   "id": "27d88036-fe00-4eab-b302-1c7b5758e176",
   "metadata": {},
   "outputs": [
    {
     "data": {
      "text/html": [
       "<div>\n",
       "<style scoped>\n",
       "    .dataframe tbody tr th:only-of-type {\n",
       "        vertical-align: middle;\n",
       "    }\n",
       "\n",
       "    .dataframe tbody tr th {\n",
       "        vertical-align: top;\n",
       "    }\n",
       "\n",
       "    .dataframe thead th {\n",
       "        text-align: right;\n",
       "    }\n",
       "</style>\n",
       "<table border=\"1\" class=\"dataframe\">\n",
       "  <thead>\n",
       "    <tr style=\"text-align: right;\">\n",
       "      <th></th>\n",
       "      <th>team_id</th>\n",
       "      <th>opponent_id</th>\n",
       "      <th>team_at_home</th>\n",
       "      <th>opponent_at_home</th>\n",
       "      <th>team_score</th>\n",
       "      <th>opponent_score</th>\n",
       "      <th>fold</th>\n",
       "    </tr>\n",
       "  </thead>\n",
       "  <tbody>\n",
       "    <tr>\n",
       "      <th>0</th>\n",
       "      <td>Scotland</td>\n",
       "      <td>England</td>\n",
       "      <td>1.0</td>\n",
       "      <td>0.0</td>\n",
       "      <td>0</td>\n",
       "      <td>0</td>\n",
       "      <td>international</td>\n",
       "    </tr>\n",
       "    <tr>\n",
       "      <th>1</th>\n",
       "      <td>England</td>\n",
       "      <td>Scotland</td>\n",
       "      <td>1.0</td>\n",
       "      <td>0.0</td>\n",
       "      <td>4</td>\n",
       "      <td>2</td>\n",
       "      <td>international</td>\n",
       "    </tr>\n",
       "    <tr>\n",
       "      <th>2</th>\n",
       "      <td>Scotland</td>\n",
       "      <td>England</td>\n",
       "      <td>1.0</td>\n",
       "      <td>0.0</td>\n",
       "      <td>2</td>\n",
       "      <td>1</td>\n",
       "      <td>international</td>\n",
       "    </tr>\n",
       "    <tr>\n",
       "      <th>3</th>\n",
       "      <td>England</td>\n",
       "      <td>Scotland</td>\n",
       "      <td>1.0</td>\n",
       "      <td>0.0</td>\n",
       "      <td>2</td>\n",
       "      <td>2</td>\n",
       "      <td>international</td>\n",
       "    </tr>\n",
       "    <tr>\n",
       "      <th>4</th>\n",
       "      <td>Scotland</td>\n",
       "      <td>England</td>\n",
       "      <td>1.0</td>\n",
       "      <td>0.0</td>\n",
       "      <td>3</td>\n",
       "      <td>0</td>\n",
       "      <td>international</td>\n",
       "    </tr>\n",
       "    <tr>\n",
       "      <th>...</th>\n",
       "      <td>...</td>\n",
       "      <td>...</td>\n",
       "      <td>...</td>\n",
       "      <td>...</td>\n",
       "      <td>...</td>\n",
       "      <td>...</td>\n",
       "      <td>...</td>\n",
       "    </tr>\n",
       "    <tr>\n",
       "      <th>143000</th>\n",
       "      <td>Sport Lisboa e Benfica</td>\n",
       "      <td>Sporting Clube de Braga</td>\n",
       "      <td>1.0</td>\n",
       "      <td>0.0</td>\n",
       "      <td>3</td>\n",
       "      <td>0</td>\n",
       "      <td>europe</td>\n",
       "    </tr>\n",
       "    <tr>\n",
       "      <th>143001</th>\n",
       "      <td>Panathinaikos Athlitikos Omilos</td>\n",
       "      <td>APS Atromitos Athinon</td>\n",
       "      <td>1.0</td>\n",
       "      <td>0.0</td>\n",
       "      <td>2</td>\n",
       "      <td>1</td>\n",
       "      <td>europe</td>\n",
       "    </tr>\n",
       "    <tr>\n",
       "      <th>143002</th>\n",
       "      <td>Fulham Football Club</td>\n",
       "      <td>Watford FC</td>\n",
       "      <td>1.0</td>\n",
       "      <td>0.0</td>\n",
       "      <td>4</td>\n",
       "      <td>1</td>\n",
       "      <td>europe</td>\n",
       "    </tr>\n",
       "    <tr>\n",
       "      <th>143003</th>\n",
       "      <td>Panthessalonikios Athlitikos Omilos Konstantin...</td>\n",
       "      <td>Athlitiki Enosi Konstantinoupoleos</td>\n",
       "      <td>1.0</td>\n",
       "      <td>0.0</td>\n",
       "      <td>1</td>\n",
       "      <td>1</td>\n",
       "      <td>europe</td>\n",
       "    </tr>\n",
       "    <tr>\n",
       "      <th>143004</th>\n",
       "      <td>Real Madrid Club de Fútbol</td>\n",
       "      <td>Real Club Deportivo Mallorca S.A.D.</td>\n",
       "      <td>1.0</td>\n",
       "      <td>0.0</td>\n",
       "      <td>3</td>\n",
       "      <td>0</td>\n",
       "      <td>europe</td>\n",
       "    </tr>\n",
       "  </tbody>\n",
       "</table>\n",
       "<p>143005 rows × 7 columns</p>\n",
       "</div>"
      ],
      "text/plain": [
       "                                                  team_id  \\\n",
       "0                                                Scotland   \n",
       "1                                                 England   \n",
       "2                                                Scotland   \n",
       "3                                                 England   \n",
       "4                                                Scotland   \n",
       "...                                                   ...   \n",
       "143000                             Sport Lisboa e Benfica   \n",
       "143001                    Panathinaikos Athlitikos Omilos   \n",
       "143002                               Fulham Football Club   \n",
       "143003  Panthessalonikios Athlitikos Omilos Konstantin...   \n",
       "143004                         Real Madrid Club de Fútbol   \n",
       "\n",
       "                                opponent_id  team_at_home  opponent_at_home  \\\n",
       "0                                   England           1.0               0.0   \n",
       "1                                  Scotland           1.0               0.0   \n",
       "2                                   England           1.0               0.0   \n",
       "3                                  Scotland           1.0               0.0   \n",
       "4                                   England           1.0               0.0   \n",
       "...                                     ...           ...               ...   \n",
       "143000              Sporting Clube de Braga           1.0               0.0   \n",
       "143001                APS Atromitos Athinon           1.0               0.0   \n",
       "143002                           Watford FC           1.0               0.0   \n",
       "143003   Athlitiki Enosi Konstantinoupoleos           1.0               0.0   \n",
       "143004  Real Club Deportivo Mallorca S.A.D.           1.0               0.0   \n",
       "\n",
       "        team_score  opponent_score           fold  \n",
       "0                0               0  international  \n",
       "1                4               2  international  \n",
       "2                2               1  international  \n",
       "3                2               2  international  \n",
       "4                3               0  international  \n",
       "...            ...             ...            ...  \n",
       "143000           3               0         europe  \n",
       "143001           2               1         europe  \n",
       "143002           4               1         europe  \n",
       "143003           1               1         europe  \n",
       "143004           3               0         europe  \n",
       "\n",
       "[143005 rows x 7 columns]"
      ]
     },
     "execution_count": 4,
     "metadata": {},
     "output_type": "execute_result"
    }
   ],
   "source": [
    "dataset"
   ]
  },
  {
   "cell_type": "code",
   "execution_count": 14,
   "id": "916db409-9f36-4534-b4f4-9e6c469ef52a",
   "metadata": {},
   "outputs": [],
   "source": [
    "model = DualEmbPredictor(embedding_dim=20, train_learning_rate=0.001, num_epochs=50)"
   ]
  },
  {
   "cell_type": "code",
   "execution_count": 15,
   "id": "d3a949b5-f3de-4d92-8032-46dcdc0bb7a5",
   "metadata": {},
   "outputs": [],
   "source": [
    "X = dataset[[\"team_id\", \"opponent_id\", \"team_at_home\", \"opponent_at_home\"]]\n",
    "y = dataset[[\"team_score\", \"opponent_score\"]] / 10.0"
   ]
  },
  {
   "cell_type": "code",
   "execution_count": 16,
   "id": "87ecb118-31ff-4afd-bd97-85b6fd82bfcc",
   "metadata": {},
   "outputs": [
    {
     "name": "stdout",
     "output_type": "stream",
     "text": [
      "Epoch 1/50\n"
     ]
    },
    {
     "name": "stderr",
     "output_type": "stream",
     "text": [
      "100%|█████████████████████████████████████████████████████████████████| 4022/4022 [00:14<00:00, 270.46it/s, loss=0.0184]\n"
     ]
    },
    {
     "name": "stdout",
     "output_type": "stream",
     "text": [
      "Validation Loss: 0.0185\n",
      "Epoch 2/50\n"
     ]
    },
    {
     "name": "stderr",
     "output_type": "stream",
     "text": [
      "100%|█████████████████████████████████████████████████████████████████| 4022/4022 [00:15<00:00, 268.04it/s, loss=0.0158]\n"
     ]
    },
    {
     "name": "stdout",
     "output_type": "stream",
     "text": [
      "Validation Loss: 0.0172\n",
      "Epoch 3/50\n"
     ]
    },
    {
     "name": "stderr",
     "output_type": "stream",
     "text": [
      "100%|█████████████████████████████████████████████████████████████████| 4022/4022 [00:10<00:00, 381.97it/s, loss=0.0155]\n"
     ]
    },
    {
     "name": "stdout",
     "output_type": "stream",
     "text": [
      "Validation Loss: 0.0166\n",
      "Epoch 4/50\n"
     ]
    },
    {
     "name": "stderr",
     "output_type": "stream",
     "text": [
      "100%|█████████████████████████████████████████████████████████████████| 4022/4022 [00:13<00:00, 307.19it/s, loss=0.0158]\n"
     ]
    },
    {
     "name": "stdout",
     "output_type": "stream",
     "text": [
      "Validation Loss: 0.0164\n",
      "Epoch 5/50\n"
     ]
    },
    {
     "name": "stderr",
     "output_type": "stream",
     "text": [
      "100%|█████████████████████████████████████████████████████████████████| 4022/4022 [00:12<00:00, 332.51it/s, loss=0.0157]\n"
     ]
    },
    {
     "name": "stdout",
     "output_type": "stream",
     "text": [
      "Validation Loss: 0.0163\n",
      "Epoch 6/50\n"
     ]
    },
    {
     "name": "stderr",
     "output_type": "stream",
     "text": [
      "100%|█████████████████████████████████████████████████████████████████| 4022/4022 [00:12<00:00, 324.51it/s, loss=0.0157]\n"
     ]
    },
    {
     "name": "stdout",
     "output_type": "stream",
     "text": [
      "Validation Loss: 0.0162\n",
      "Epoch 7/50\n"
     ]
    },
    {
     "name": "stderr",
     "output_type": "stream",
     "text": [
      "100%|█████████████████████████████████████████████████████████████████| 4022/4022 [00:12<00:00, 317.14it/s, loss=0.0158]\n"
     ]
    },
    {
     "name": "stdout",
     "output_type": "stream",
     "text": [
      "Validation Loss: 0.0162\n",
      "Epoch 8/50\n"
     ]
    },
    {
     "name": "stderr",
     "output_type": "stream",
     "text": [
      "100%|█████████████████████████████████████████████████████████████████| 4022/4022 [00:12<00:00, 325.07it/s, loss=0.0158]\n"
     ]
    },
    {
     "name": "stdout",
     "output_type": "stream",
     "text": [
      "Validation Loss: 0.0161\n",
      "Epoch 9/50\n"
     ]
    },
    {
     "name": "stderr",
     "output_type": "stream",
     "text": [
      "100%|█████████████████████████████████████████████████████████████████| 4022/4022 [00:13<00:00, 294.84it/s, loss=0.0158]\n"
     ]
    },
    {
     "name": "stdout",
     "output_type": "stream",
     "text": [
      "Validation Loss: 0.0161\n",
      "Epoch 10/50\n"
     ]
    },
    {
     "name": "stderr",
     "output_type": "stream",
     "text": [
      "100%|█████████████████████████████████████████████████████████████████| 4022/4022 [00:13<00:00, 298.07it/s, loss=0.0158]\n"
     ]
    },
    {
     "name": "stdout",
     "output_type": "stream",
     "text": [
      "Validation Loss: 0.0161\n",
      "Epoch 11/50\n"
     ]
    },
    {
     "name": "stderr",
     "output_type": "stream",
     "text": [
      "100%|█████████████████████████████████████████████████████████████████| 4022/4022 [00:12<00:00, 324.97it/s, loss=0.0158]\n"
     ]
    },
    {
     "name": "stdout",
     "output_type": "stream",
     "text": [
      "Validation Loss: 0.0161\n",
      "Epoch 12/50\n"
     ]
    },
    {
     "name": "stderr",
     "output_type": "stream",
     "text": [
      "100%|█████████████████████████████████████████████████████████████████| 4022/4022 [00:13<00:00, 304.45it/s, loss=0.0158]\n"
     ]
    },
    {
     "name": "stdout",
     "output_type": "stream",
     "text": [
      "Validation Loss: 0.0161\n",
      "Epoch 13/50\n"
     ]
    },
    {
     "name": "stderr",
     "output_type": "stream",
     "text": [
      "100%|█████████████████████████████████████████████████████████████████| 4022/4022 [00:15<00:00, 258.88it/s, loss=0.0158]\n"
     ]
    },
    {
     "name": "stdout",
     "output_type": "stream",
     "text": [
      "Validation Loss: 0.0161\n",
      "Epoch 14/50\n"
     ]
    },
    {
     "name": "stderr",
     "output_type": "stream",
     "text": [
      "100%|█████████████████████████████████████████████████████████████████| 4022/4022 [00:14<00:00, 268.40it/s, loss=0.0158]\n"
     ]
    },
    {
     "name": "stdout",
     "output_type": "stream",
     "text": [
      "Validation Loss: 0.0161\n",
      "Epoch 15/50\n"
     ]
    },
    {
     "name": "stderr",
     "output_type": "stream",
     "text": [
      "100%|█████████████████████████████████████████████████████████████████| 4022/4022 [00:15<00:00, 258.40it/s, loss=0.0158]\n"
     ]
    },
    {
     "name": "stdout",
     "output_type": "stream",
     "text": [
      "Validation Loss: 0.0161\n",
      "Epoch 16/50\n"
     ]
    },
    {
     "name": "stderr",
     "output_type": "stream",
     "text": [
      "100%|█████████████████████████████████████████████████████████████████| 4022/4022 [00:14<00:00, 268.89it/s, loss=0.0158]\n"
     ]
    },
    {
     "name": "stdout",
     "output_type": "stream",
     "text": [
      "Validation Loss: 0.0161\n",
      "Epoch 17/50\n"
     ]
    },
    {
     "name": "stderr",
     "output_type": "stream",
     "text": [
      "100%|█████████████████████████████████████████████████████████████████| 4022/4022 [00:20<00:00, 195.99it/s, loss=0.0157]\n"
     ]
    },
    {
     "name": "stdout",
     "output_type": "stream",
     "text": [
      "Validation Loss: 0.0161\n",
      "Epoch 18/50\n"
     ]
    },
    {
     "name": "stderr",
     "output_type": "stream",
     "text": [
      "100%|█████████████████████████████████████████████████████████████████| 4022/4022 [00:23<00:00, 173.11it/s, loss=0.0156]\n"
     ]
    },
    {
     "name": "stdout",
     "output_type": "stream",
     "text": [
      "Validation Loss: 0.0161\n",
      "Epoch 19/50\n"
     ]
    },
    {
     "name": "stderr",
     "output_type": "stream",
     "text": [
      "100%|█████████████████████████████████████████████████████████████████| 4022/4022 [00:23<00:00, 169.11it/s, loss=0.0155]\n"
     ]
    },
    {
     "name": "stdout",
     "output_type": "stream",
     "text": [
      "Validation Loss: 0.0161\n",
      "Epoch 20/50\n"
     ]
    },
    {
     "name": "stderr",
     "output_type": "stream",
     "text": [
      "100%|█████████████████████████████████████████████████████████████████| 4022/4022 [00:19<00:00, 209.72it/s, loss=0.0155]\n"
     ]
    },
    {
     "name": "stdout",
     "output_type": "stream",
     "text": [
      "Validation Loss: 0.0161\n",
      "Epoch 21/50\n"
     ]
    },
    {
     "name": "stderr",
     "output_type": "stream",
     "text": [
      "100%|█████████████████████████████████████████████████████████████████| 4022/4022 [00:21<00:00, 187.30it/s, loss=0.0153]\n"
     ]
    },
    {
     "name": "stdout",
     "output_type": "stream",
     "text": [
      "Validation Loss: 0.0161\n",
      "Epoch 22/50\n"
     ]
    },
    {
     "name": "stderr",
     "output_type": "stream",
     "text": [
      "100%|█████████████████████████████████████████████████████████████████| 4022/4022 [00:20<00:00, 199.59it/s, loss=0.0152]\n"
     ]
    },
    {
     "name": "stdout",
     "output_type": "stream",
     "text": [
      "Validation Loss: 0.0161\n",
      "Epoch 23/50\n"
     ]
    },
    {
     "name": "stderr",
     "output_type": "stream",
     "text": [
      "100%|█████████████████████████████████████████████████████████████████| 4022/4022 [00:23<00:00, 168.55it/s, loss=0.0151]\n"
     ]
    },
    {
     "name": "stdout",
     "output_type": "stream",
     "text": [
      "Validation Loss: 0.0161\n",
      "Epoch 24/50\n"
     ]
    },
    {
     "name": "stderr",
     "output_type": "stream",
     "text": [
      "100%|█████████████████████████████████████████████████████████████████| 4022/4022 [00:24<00:00, 166.99it/s, loss=0.0150]\n"
     ]
    },
    {
     "name": "stdout",
     "output_type": "stream",
     "text": [
      "Validation Loss: 0.0161\n",
      "Epoch 25/50\n"
     ]
    },
    {
     "name": "stderr",
     "output_type": "stream",
     "text": [
      "100%|█████████████████████████████████████████████████████████████████| 4022/4022 [00:34<00:00, 117.61it/s, loss=0.0149]\n"
     ]
    },
    {
     "name": "stdout",
     "output_type": "stream",
     "text": [
      "Validation Loss: 0.0161\n",
      "Epoch 26/50\n"
     ]
    },
    {
     "name": "stderr",
     "output_type": "stream",
     "text": [
      "100%|██████████████████████████████████████████████████████████████████| 4022/4022 [00:49<00:00, 81.64it/s, loss=0.0147]\n"
     ]
    },
    {
     "name": "stdout",
     "output_type": "stream",
     "text": [
      "Validation Loss: 0.0161\n",
      "Epoch 27/50\n"
     ]
    },
    {
     "name": "stderr",
     "output_type": "stream",
     "text": [
      "100%|█████████████████████████████████████████████████████████████████| 4022/4022 [00:38<00:00, 103.62it/s, loss=0.0146]\n"
     ]
    },
    {
     "name": "stdout",
     "output_type": "stream",
     "text": [
      "Validation Loss: 0.0161\n",
      "Epoch 28/50\n"
     ]
    },
    {
     "name": "stderr",
     "output_type": "stream",
     "text": [
      "100%|█████████████████████████████████████████████████████████████████| 4022/4022 [00:35<00:00, 112.21it/s, loss=0.0145]\n"
     ]
    },
    {
     "name": "stdout",
     "output_type": "stream",
     "text": [
      "Validation Loss: 0.0161\n",
      "Epoch 29/50\n"
     ]
    },
    {
     "name": "stderr",
     "output_type": "stream",
     "text": [
      "100%|██████████████████████████████████████████████████████████████████| 4022/4022 [00:41<00:00, 98.04it/s, loss=0.0144]\n"
     ]
    },
    {
     "name": "stdout",
     "output_type": "stream",
     "text": [
      "Validation Loss: 0.0161\n",
      "Epoch 30/50\n"
     ]
    },
    {
     "name": "stderr",
     "output_type": "stream",
     "text": [
      "100%|█████████████████████████████████████████████████████████████████| 4022/4022 [00:31<00:00, 129.55it/s, loss=0.0143]\n"
     ]
    },
    {
     "name": "stdout",
     "output_type": "stream",
     "text": [
      "Validation Loss: 0.0161\n",
      "Epoch 31/50\n"
     ]
    },
    {
     "name": "stderr",
     "output_type": "stream",
     "text": [
      "100%|█████████████████████████████████████████████████████████████████| 4022/4022 [00:18<00:00, 220.42it/s, loss=0.0142]\n"
     ]
    },
    {
     "name": "stdout",
     "output_type": "stream",
     "text": [
      "Validation Loss: 0.0161\n",
      "Epoch 32/50\n"
     ]
    },
    {
     "name": "stderr",
     "output_type": "stream",
     "text": [
      "100%|█████████████████████████████████████████████████████████████████| 4022/4022 [00:21<00:00, 187.74it/s, loss=0.0141]\n"
     ]
    },
    {
     "name": "stdout",
     "output_type": "stream",
     "text": [
      "Validation Loss: 0.0162\n",
      "Epoch 33/50\n"
     ]
    },
    {
     "name": "stderr",
     "output_type": "stream",
     "text": [
      "100%|█████████████████████████████████████████████████████████████████| 4022/4022 [00:21<00:00, 183.36it/s, loss=0.0140]\n"
     ]
    },
    {
     "name": "stdout",
     "output_type": "stream",
     "text": [
      "Validation Loss: 0.0162\n",
      "Epoch 34/50\n"
     ]
    },
    {
     "name": "stderr",
     "output_type": "stream",
     "text": [
      "100%|█████████████████████████████████████████████████████████████████| 4022/4022 [00:23<00:00, 168.78it/s, loss=0.0139]\n"
     ]
    },
    {
     "name": "stdout",
     "output_type": "stream",
     "text": [
      "Validation Loss: 0.0162\n",
      "Epoch 35/50\n"
     ]
    },
    {
     "name": "stderr",
     "output_type": "stream",
     "text": [
      "100%|█████████████████████████████████████████████████████████████████| 4022/4022 [00:23<00:00, 173.83it/s, loss=0.0138]\n"
     ]
    },
    {
     "name": "stdout",
     "output_type": "stream",
     "text": [
      "Validation Loss: 0.0162\n",
      "Epoch 36/50\n"
     ]
    },
    {
     "name": "stderr",
     "output_type": "stream",
     "text": [
      "100%|█████████████████████████████████████████████████████████████████| 4022/4022 [00:23<00:00, 174.03it/s, loss=0.0137]\n"
     ]
    },
    {
     "name": "stdout",
     "output_type": "stream",
     "text": [
      "Validation Loss: 0.0162\n",
      "Epoch 37/50\n"
     ]
    },
    {
     "name": "stderr",
     "output_type": "stream",
     "text": [
      "100%|█████████████████████████████████████████████████████████████████| 4022/4022 [00:24<00:00, 167.50it/s, loss=0.0136]\n"
     ]
    },
    {
     "name": "stdout",
     "output_type": "stream",
     "text": [
      "Validation Loss: 0.0162\n",
      "Epoch 38/50\n"
     ]
    },
    {
     "name": "stderr",
     "output_type": "stream",
     "text": [
      "100%|██████████████████████████████████████████████████████████████████| 4022/4022 [00:41<00:00, 96.69it/s, loss=0.0135]\n"
     ]
    },
    {
     "name": "stdout",
     "output_type": "stream",
     "text": [
      "Validation Loss: 0.0162\n",
      "Epoch 39/50\n"
     ]
    },
    {
     "name": "stderr",
     "output_type": "stream",
     "text": [
      "100%|█████████████████████████████████████████████████████████████████| 4022/4022 [00:27<00:00, 144.69it/s, loss=0.0135]\n"
     ]
    },
    {
     "name": "stdout",
     "output_type": "stream",
     "text": [
      "Validation Loss: 0.0162\n",
      "Epoch 40/50\n"
     ]
    },
    {
     "name": "stderr",
     "output_type": "stream",
     "text": [
      "100%|█████████████████████████████████████████████████████████████████| 4022/4022 [00:20<00:00, 199.43it/s, loss=0.0134]\n"
     ]
    },
    {
     "name": "stdout",
     "output_type": "stream",
     "text": [
      "Validation Loss: 0.0162\n",
      "Epoch 41/50\n"
     ]
    },
    {
     "name": "stderr",
     "output_type": "stream",
     "text": [
      "100%|█████████████████████████████████████████████████████████████████| 4022/4022 [00:19<00:00, 206.98it/s, loss=0.0133]\n"
     ]
    },
    {
     "name": "stdout",
     "output_type": "stream",
     "text": [
      "Validation Loss: 0.0163\n",
      "Epoch 42/50\n"
     ]
    },
    {
     "name": "stderr",
     "output_type": "stream",
     "text": [
      "100%|█████████████████████████████████████████████████████████████████| 4022/4022 [00:21<00:00, 184.78it/s, loss=0.0133]\n"
     ]
    },
    {
     "name": "stdout",
     "output_type": "stream",
     "text": [
      "Validation Loss: 0.0163\n",
      "Epoch 43/50\n"
     ]
    },
    {
     "name": "stderr",
     "output_type": "stream",
     "text": [
      "100%|█████████████████████████████████████████████████████████████████| 4022/4022 [00:22<00:00, 182.48it/s, loss=0.0132]\n"
     ]
    },
    {
     "name": "stdout",
     "output_type": "stream",
     "text": [
      "Validation Loss: 0.0163\n",
      "Epoch 44/50\n"
     ]
    },
    {
     "name": "stderr",
     "output_type": "stream",
     "text": [
      "100%|█████████████████████████████████████████████████████████████████| 4022/4022 [00:22<00:00, 178.15it/s, loss=0.0131]\n"
     ]
    },
    {
     "name": "stdout",
     "output_type": "stream",
     "text": [
      "Validation Loss: 0.0163\n",
      "Epoch 45/50\n"
     ]
    },
    {
     "name": "stderr",
     "output_type": "stream",
     "text": [
      "100%|█████████████████████████████████████████████████████████████████| 4022/4022 [00:21<00:00, 190.36it/s, loss=0.0130]\n"
     ]
    },
    {
     "name": "stdout",
     "output_type": "stream",
     "text": [
      "Validation Loss: 0.0163\n",
      "Epoch 46/50\n"
     ]
    },
    {
     "name": "stderr",
     "output_type": "stream",
     "text": [
      "100%|█████████████████████████████████████████████████████████████████| 4022/4022 [00:20<00:00, 194.44it/s, loss=0.0129]\n"
     ]
    },
    {
     "name": "stdout",
     "output_type": "stream",
     "text": [
      "Validation Loss: 0.0163\n",
      "Epoch 47/50\n"
     ]
    },
    {
     "name": "stderr",
     "output_type": "stream",
     "text": [
      "100%|█████████████████████████████████████████████████████████████████| 4022/4022 [00:22<00:00, 179.08it/s, loss=0.0129]\n"
     ]
    },
    {
     "name": "stdout",
     "output_type": "stream",
     "text": [
      "Validation Loss: 0.0163\n",
      "Epoch 48/50\n"
     ]
    },
    {
     "name": "stderr",
     "output_type": "stream",
     "text": [
      "100%|█████████████████████████████████████████████████████████████████| 4022/4022 [00:19<00:00, 209.38it/s, loss=0.0128]\n"
     ]
    },
    {
     "name": "stdout",
     "output_type": "stream",
     "text": [
      "Validation Loss: 0.0163\n",
      "Epoch 49/50\n"
     ]
    },
    {
     "name": "stderr",
     "output_type": "stream",
     "text": [
      "100%|█████████████████████████████████████████████████████████████████| 4022/4022 [00:19<00:00, 209.26it/s, loss=0.0127]\n"
     ]
    },
    {
     "name": "stdout",
     "output_type": "stream",
     "text": [
      "Validation Loss: 0.0163\n",
      "Epoch 50/50\n"
     ]
    },
    {
     "name": "stderr",
     "output_type": "stream",
     "text": [
      "100%|█████████████████████████████████████████████████████████████████| 4022/4022 [00:19<00:00, 205.88it/s, loss=0.0126]\n"
     ]
    },
    {
     "name": "stdout",
     "output_type": "stream",
     "text": [
      "Validation Loss: 0.0164\n"
     ]
    }
   ],
   "source": [
    "model.fit(X, y, validation_set=0.1)"
   ]
  },
  {
   "cell_type": "code",
   "execution_count": 17,
   "id": "330ae7a7-c46c-4739-8f59-20524fad61ac",
   "metadata": {},
   "outputs": [
    {
     "data": {
      "text/plain": [
       "array([[0.3563767 , 0.28724496, 0.35637834]])"
      ]
     },
     "execution_count": 17,
     "metadata": {},
     "output_type": "execute_result"
    }
   ],
   "source": [
    "model.logit.model.predict(\n",
    "    model.logit.params, exog=pd.DataFrame(data=[{\"predicted_score_difference\": 0.0}])\n",
    ")"
   ]
  },
  {
   "cell_type": "code",
   "execution_count": 18,
   "id": "1f87f62a-89da-4cad-8d0d-1ba3802c08ec",
   "metadata": {},
   "outputs": [
    {
     "data": {
      "text/plain": [
       "array([[0.3563767 , 0.28724496, 0.35637834]])"
      ]
     },
     "execution_count": 18,
     "metadata": {},
     "output_type": "execute_result"
    }
   ],
   "source": [
    "model.predict(\n",
    "    pd.DataFrame(\n",
    "        [\n",
    "            {\n",
    "                \"team_id\": \"Brazil\",\n",
    "                \"opponent_id\": \"Argentina\",\n",
    "                \"team_at_home\": 0.0,\n",
    "                \"opponent_at_home\": 0.0,\n",
    "            },\n",
    "        ]\n",
    "    )\n",
    ")"
   ]
  },
  {
   "cell_type": "code",
   "execution_count": 19,
   "id": "73786aca-fd37-4df0-aac6-b4b65e114a4c",
   "metadata": {},
   "outputs": [
    {
     "data": {
      "text/plain": [
       "array([[0.3563767 , 0.28724496, 0.35637834]])"
      ]
     },
     "execution_count": 19,
     "metadata": {},
     "output_type": "execute_result"
    }
   ],
   "source": [
    "model.predict(\n",
    "    pd.DataFrame(\n",
    "        [\n",
    "            {\n",
    "                \"team_id\": \"Argentina\",\n",
    "                \"opponent_id\": \"Brazil\",\n",
    "                \"team_at_home\": 0.0,\n",
    "                \"opponent_at_home\": 0.0,\n",
    "            },\n",
    "        ]\n",
    "    )\n",
    ")"
   ]
  },
  {
   "cell_type": "code",
   "execution_count": 20,
   "id": "6aee77bf-a7ea-47ec-a5b1-44f7041c5598",
   "metadata": {},
   "outputs": [
    {
     "data": {
      "text/plain": [
       "array([[0.3563767 , 0.28724496, 0.35637834]])"
      ]
     },
     "execution_count": 20,
     "metadata": {},
     "output_type": "execute_result"
    }
   ],
   "source": [
    "model.predict(\n",
    "    pd.DataFrame(\n",
    "        [\n",
    "            {\n",
    "                \"team_id\": random.random(),\n",
    "                \"opponent_id\": random.random(),\n",
    "                \"team_at_home\": 0.0,\n",
    "                \"opponent_at_home\": 0.0,\n",
    "            },\n",
    "        ]\n",
    "    )\n",
    ")"
   ]
  },
  {
   "cell_type": "code",
   "execution_count": 21,
   "id": "afec20de-bfbe-48f1-9c78-5d899bdb8740",
   "metadata": {},
   "outputs": [
    {
     "data": {
      "text/plain": [
       "array([[0.46320376, 0.27464009, 0.26215614]])"
      ]
     },
     "execution_count": 21,
     "metadata": {},
     "output_type": "execute_result"
    }
   ],
   "source": [
    "model.predict(\n",
    "    pd.DataFrame(\n",
    "        [\n",
    "            {\n",
    "                \"team_id\": random.random(),\n",
    "                \"opponent_id\": random.random(),\n",
    "                \"team_at_home\": 1.0,\n",
    "                \"opponent_at_home\": 0.0,\n",
    "            },\n",
    "        ]\n",
    "    )\n",
    ")"
   ]
  },
  {
   "cell_type": "code",
   "execution_count": 22,
   "id": "b6129b78-d6f9-4e19-8b68-cf4ff22e2ffa",
   "metadata": {},
   "outputs": [
    {
     "data": {
      "text/plain": [
       "array([[0.26215476, 0.2746397 , 0.46320554]])"
      ]
     },
     "execution_count": 22,
     "metadata": {},
     "output_type": "execute_result"
    }
   ],
   "source": [
    "model.predict(\n",
    "    pd.DataFrame(\n",
    "        [\n",
    "            {\n",
    "                \"team_id\": random.random(),\n",
    "                \"opponent_id\": random.random(),\n",
    "                \"team_at_home\": 0.0,\n",
    "                \"opponent_at_home\": 1.0,\n",
    "            },\n",
    "        ]\n",
    "    )\n",
    ")"
   ]
  },
  {
   "cell_type": "code",
   "execution_count": 23,
   "id": "af018203-2c42-4edb-a685-67adf1316d86",
   "metadata": {},
   "outputs": [
    {
     "data": {
      "text/plain": [
       "array([[0.3563767 , 0.28724496, 0.35637834]])"
      ]
     },
     "execution_count": 23,
     "metadata": {},
     "output_type": "execute_result"
    }
   ],
   "source": [
    "model.predict(\n",
    "    pd.DataFrame(\n",
    "        [\n",
    "            {\n",
    "                \"team_id\": \"Brazil\",\n",
    "                \"opponent_id\": str(random.random()),\n",
    "                \"team_at_home\": 0.0,\n",
    "                \"opponent_at_home\": 0.0,\n",
    "            },\n",
    "        ]\n",
    "    )\n",
    ")"
   ]
  },
  {
   "cell_type": "code",
   "execution_count": 24,
   "id": "6b026ec5-33ab-424b-bd9d-b92b151fa0e5",
   "metadata": {},
   "outputs": [
    {
     "data": {
      "text/plain": [
       "array([[0.3563767 , 0.28724496, 0.35637834]])"
      ]
     },
     "execution_count": 24,
     "metadata": {},
     "output_type": "execute_result"
    }
   ],
   "source": [
    "model.predict(\n",
    "    pd.DataFrame(\n",
    "        [\n",
    "            {\n",
    "                \"team_id\": \"Brazil\",\n",
    "                \"opponent_id\": str(random.random()),\n",
    "                \"team_at_home\": 0.0,\n",
    "                \"opponent_at_home\": 0.0,\n",
    "            },\n",
    "        ]\n",
    "    )\n",
    ")"
   ]
  },
  {
   "cell_type": "code",
   "execution_count": 25,
   "id": "9bb16006-44d2-435e-bb03-ea19d9141ff3",
   "metadata": {},
   "outputs": [
    {
     "data": {
      "text/plain": [
       "array([[0.3563767 , 0.28724496, 0.35637834]])"
      ]
     },
     "execution_count": 25,
     "metadata": {},
     "output_type": "execute_result"
    }
   ],
   "source": [
    "model.predict_and_update(\n",
    "    pd.DataFrame(\n",
    "        [\n",
    "            {\n",
    "                \"team_id\": \"Brazil\",\n",
    "                \"opponent_id\": \"Argentina\",\n",
    "                \"team_at_home\": 0.0,\n",
    "                \"opponent_at_home\": 0.0,\n",
    "            },\n",
    "        ]\n",
    "    ),\n",
    "    pd.DataFrame(\n",
    "        [\n",
    "            {\n",
    "                \"team_score\": 4,\n",
    "                \"opponent_score\": 0,\n",
    "            },\n",
    "        ]\n",
    "    ),\n",
    ")"
   ]
  },
  {
   "cell_type": "code",
   "execution_count": 26,
   "id": "b5f3c2b1-f37a-44ad-ab9b-62f1b3c4d43f",
   "metadata": {},
   "outputs": [
    {
     "data": {
      "text/plain": [
       "array([[0.3768359 , 0.28673391, 0.33643019]])"
      ]
     },
     "execution_count": 26,
     "metadata": {},
     "output_type": "execute_result"
    }
   ],
   "source": [
    "model.predict(\n",
    "    pd.DataFrame(\n",
    "        [\n",
    "            {\n",
    "                \"team_id\": \"Brazil\",\n",
    "                \"opponent_id\": \"Argentina\",\n",
    "                \"team_at_home\": 0.0,\n",
    "                \"opponent_at_home\": 0.0,\n",
    "            },\n",
    "        ]\n",
    "    )\n",
    ")"
   ]
  },
  {
   "cell_type": "code",
   "execution_count": 27,
   "id": "91e2c72d-c323-4bbf-84ef-fd4f027d48de",
   "metadata": {},
   "outputs": [
    {
     "data": {
      "text/plain": [
       "{'Argentina': [0.10502047836780548,\n",
       "  -0.20771971344947815,\n",
       "  0.11982806026935577,\n",
       "  0.09470178186893463,\n",
       "  0.15561939775943756,\n",
       "  0.23406867682933807,\n",
       "  -0.07347624003887177,\n",
       "  -0.018483713269233704,\n",
       "  0.15188179910182953,\n",
       "  0.11879277974367142,\n",
       "  0.15726275742053986,\n",
       "  -0.1242038831114769,\n",
       "  -0.17651957273483276,\n",
       "  0.15905651450157166,\n",
       "  0.06183586269617081,\n",
       "  0.023565897718071938,\n",
       "  -0.036223795264959335,\n",
       "  -0.01191636547446251,\n",
       "  -0.0759628638625145,\n",
       "  0.04775892198085785],\n",
       " 'Brazil': [0.10502047836780548,\n",
       "  -0.20771972835063934,\n",
       "  0.09982806444168091,\n",
       "  0.07470178604125977,\n",
       "  0.15561939775943756,\n",
       "  0.2140686810016632,\n",
       "  -0.07347624003887177,\n",
       "  -0.018483690917491913,\n",
       "  0.13188178837299347,\n",
       "  0.11879278719425201,\n",
       "  0.17726273834705353,\n",
       "  -0.10420388728380203,\n",
       "  -0.1565195769071579,\n",
       "  0.13905653357505798,\n",
       "  0.04183587059378624,\n",
       "  0.023565903306007385,\n",
       "  -0.0562237873673439,\n",
       "  0.008083634078502655,\n",
       "  -0.05596286803483963,\n",
       "  0.027758922427892685]}"
      ]
     },
     "execution_count": 27,
     "metadata": {},
     "output_type": "execute_result"
    }
   ],
   "source": [
    "model.embeddings"
   ]
  },
  {
   "cell_type": "code",
   "execution_count": 50,
   "id": "2bc465cf-97d3-4c52-80c1-eabee2411183",
   "metadata": {},
   "outputs": [
    {
     "data": {
      "text/plain": [
       "array([[0.41903177, 0.28268662, 0.29828161]])"
      ]
     },
     "execution_count": 50,
     "metadata": {},
     "output_type": "execute_result"
    }
   ],
   "source": [
    "model.predict_and_update(\n",
    "    pd.DataFrame(\n",
    "        [\n",
    "            {\n",
    "                \"team_id\": \"Brazil\",\n",
    "                \"opponent_id\": \"Argentina\",\n",
    "                \"team_at_home\": 0.0,\n",
    "                \"opponent_at_home\": 0.0,\n",
    "            },\n",
    "        ]\n",
    "    ),\n",
    "    pd.DataFrame(\n",
    "        [\n",
    "            {\n",
    "                \"team_score\": 10,\n",
    "                \"opponent_score\": 0,\n",
    "            },\n",
    "        ]\n",
    "    ),\n",
    ")"
   ]
  },
  {
   "cell_type": "code",
   "execution_count": 42,
   "id": "b55ec05b-be10-41e9-a694-c3b84d71abbb",
   "metadata": {},
   "outputs": [
    {
     "data": {
      "text/plain": [
       "{'Argentina': [0.1450204849243164,\n",
       "  -0.1677197515964508,\n",
       "  0.09982806444168091,\n",
       "  0.07470178604125977,\n",
       "  0.11561938375234604,\n",
       "  0.2140686810016632,\n",
       "  -0.033476248383522034,\n",
       "  -0.058483682572841644,\n",
       "  0.13188178837299347,\n",
       "  0.07879278808832169,\n",
       "  0.1772627830505371,\n",
       "  -0.10420388728380203,\n",
       "  -0.1565195620059967,\n",
       "  0.1390565037727356,\n",
       "  0.04183586686849594,\n",
       "  -0.016434090211987495,\n",
       "  -0.0562237873673439,\n",
       "  0.008083632215857506,\n",
       "  -0.05596286803483963,\n",
       "  0.027758926153182983],\n",
       " 'Brazil': [0.1450204849243164,\n",
       "  -0.16771972179412842,\n",
       "  0.11982806771993637,\n",
       "  0.09470178186893463,\n",
       "  0.11561939865350723,\n",
       "  0.23406869173049927,\n",
       "  -0.033476248383522034,\n",
       "  -0.05848367512226105,\n",
       "  0.15188178420066833,\n",
       "  0.07879279553890228,\n",
       "  0.15726274251937866,\n",
       "  -0.1242038831114769,\n",
       "  -0.17651958763599396,\n",
       "  0.15905654430389404,\n",
       "  0.061835870146751404,\n",
       "  -0.016434088349342346,\n",
       "  -0.03622378781437874,\n",
       "  -0.011916364543139935,\n",
       "  -0.0759628638625145,\n",
       "  0.04775891825556755]}"
      ]
     },
     "execution_count": 42,
     "metadata": {},
     "output_type": "execute_result"
    }
   ],
   "source": [
    "model.embeddings"
   ]
  },
  {
   "cell_type": "code",
   "execution_count": 45,
   "id": "7a426949-643b-47a8-833f-a034556cc0e9",
   "metadata": {},
   "outputs": [
    {
     "data": {
      "text/plain": [
       "array([[0.33642859, 0.28673383, 0.37683758]])"
      ]
     },
     "execution_count": 45,
     "metadata": {},
     "output_type": "execute_result"
    }
   ],
   "source": [
    "model.predict(\n",
    "    pd.DataFrame(\n",
    "        [\n",
    "            {\n",
    "                \"team_id\": \"Brazil\",\n",
    "                \"opponent_id\": \"Argentina\",\n",
    "                \"team_at_home\": 0.0,\n",
    "                \"opponent_at_home\": 0.0,\n",
    "            },\n",
    "        ]\n",
    "    )\n",
    ")"
   ]
  },
  {
   "cell_type": "code",
   "execution_count": null,
   "id": "95549801-bfee-49cc-ab10-1897865b545d",
   "metadata": {},
   "outputs": [],
   "source": []
  }
 ],
 "metadata": {
  "kernelspec": {
   "display_name": "Python 3 (ipykernel)",
   "language": "python",
   "name": "python3"
  },
  "language_info": {
   "codemirror_mode": {
    "name": "ipython",
    "version": 3
   },
   "file_extension": ".py",
   "mimetype": "text/x-python",
   "name": "python",
   "nbconvert_exporter": "python",
   "pygments_lexer": "ipython3",
   "version": "3.12.3"
  }
 },
 "nbformat": 4,
 "nbformat_minor": 5
}
