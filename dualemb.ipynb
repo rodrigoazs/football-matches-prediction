{
 "cells": [
  {
   "cell_type": "code",
   "execution_count": 1,
   "id": "f00aeedf-799e-43f7-a2aa-aa45cdb3ad2b",
   "metadata": {},
   "outputs": [],
   "source": [
    "import random\n",
    "\n",
    "import numpy as np\n",
    "import pandas as pd\n",
    "\n",
    "from src.dataset import get_dataset\n",
    "from src.models.dualemb import DualEmbPredictor"
   ]
  },
  {
   "cell_type": "code",
   "execution_count": 2,
   "id": "a77baa50-bafc-43e0-9563-d62708af0b4b",
   "metadata": {},
   "outputs": [],
   "source": [
    "ITERATIONS = 1\n",
    "random.seed(5438)\n",
    "np.random.seed(5438)"
   ]
  },
  {
   "cell_type": "code",
   "execution_count": 3,
   "id": "4cd9fae8-e845-4e95-8536-43b497d391ed",
   "metadata": {},
   "outputs": [
    {
     "name": "stderr",
     "output_type": "stream",
     "text": [
      "/mnt/c/Personal/football-matches-prediction/src/dataset.py:47: DtypeWarning: Columns (11,14,50,102,123,125,129,131,133,135,137,139,141,143,145,147,149,157,158,160,161,163,165,167,169,171,173,184,186,187,205,206) have mixed types. Specify dtype option on import or set low_memory=False.\n",
      "  mls_df = pd.read_csv(\"data/mls_matches.csv\")\n"
     ]
    }
   ],
   "source": [
    "dataset = get_dataset()"
   ]
  },
  {
   "cell_type": "code",
   "execution_count": 4,
   "id": "27d88036-fe00-4eab-b302-1c7b5758e176",
   "metadata": {},
   "outputs": [
    {
     "data": {
      "text/html": [
       "<div>\n",
       "<style scoped>\n",
       "    .dataframe tbody tr th:only-of-type {\n",
       "        vertical-align: middle;\n",
       "    }\n",
       "\n",
       "    .dataframe tbody tr th {\n",
       "        vertical-align: top;\n",
       "    }\n",
       "\n",
       "    .dataframe thead th {\n",
       "        text-align: right;\n",
       "    }\n",
       "</style>\n",
       "<table border=\"1\" class=\"dataframe\">\n",
       "  <thead>\n",
       "    <tr style=\"text-align: right;\">\n",
       "      <th></th>\n",
       "      <th>team_id</th>\n",
       "      <th>opponent_id</th>\n",
       "      <th>team_at_home</th>\n",
       "      <th>opponent_at_home</th>\n",
       "      <th>team_score</th>\n",
       "      <th>opponent_score</th>\n",
       "      <th>fold</th>\n",
       "    </tr>\n",
       "  </thead>\n",
       "  <tbody>\n",
       "    <tr>\n",
       "      <th>0</th>\n",
       "      <td>Scotland</td>\n",
       "      <td>England</td>\n",
       "      <td>1.0</td>\n",
       "      <td>0.0</td>\n",
       "      <td>0</td>\n",
       "      <td>0</td>\n",
       "      <td>international</td>\n",
       "    </tr>\n",
       "    <tr>\n",
       "      <th>1</th>\n",
       "      <td>England</td>\n",
       "      <td>Scotland</td>\n",
       "      <td>1.0</td>\n",
       "      <td>0.0</td>\n",
       "      <td>4</td>\n",
       "      <td>2</td>\n",
       "      <td>international</td>\n",
       "    </tr>\n",
       "    <tr>\n",
       "      <th>2</th>\n",
       "      <td>Scotland</td>\n",
       "      <td>England</td>\n",
       "      <td>1.0</td>\n",
       "      <td>0.0</td>\n",
       "      <td>2</td>\n",
       "      <td>1</td>\n",
       "      <td>international</td>\n",
       "    </tr>\n",
       "    <tr>\n",
       "      <th>3</th>\n",
       "      <td>England</td>\n",
       "      <td>Scotland</td>\n",
       "      <td>1.0</td>\n",
       "      <td>0.0</td>\n",
       "      <td>2</td>\n",
       "      <td>2</td>\n",
       "      <td>international</td>\n",
       "    </tr>\n",
       "    <tr>\n",
       "      <th>4</th>\n",
       "      <td>Scotland</td>\n",
       "      <td>England</td>\n",
       "      <td>1.0</td>\n",
       "      <td>0.0</td>\n",
       "      <td>3</td>\n",
       "      <td>0</td>\n",
       "      <td>international</td>\n",
       "    </tr>\n",
       "    <tr>\n",
       "      <th>...</th>\n",
       "      <td>...</td>\n",
       "      <td>...</td>\n",
       "      <td>...</td>\n",
       "      <td>...</td>\n",
       "      <td>...</td>\n",
       "      <td>...</td>\n",
       "      <td>...</td>\n",
       "    </tr>\n",
       "    <tr>\n",
       "      <th>143000</th>\n",
       "      <td>Sport Lisboa e Benfica</td>\n",
       "      <td>Sporting Clube de Braga</td>\n",
       "      <td>1.0</td>\n",
       "      <td>0.0</td>\n",
       "      <td>3</td>\n",
       "      <td>0</td>\n",
       "      <td>europe</td>\n",
       "    </tr>\n",
       "    <tr>\n",
       "      <th>143001</th>\n",
       "      <td>Panathinaikos Athlitikos Omilos</td>\n",
       "      <td>APS Atromitos Athinon</td>\n",
       "      <td>1.0</td>\n",
       "      <td>0.0</td>\n",
       "      <td>2</td>\n",
       "      <td>1</td>\n",
       "      <td>europe</td>\n",
       "    </tr>\n",
       "    <tr>\n",
       "      <th>143002</th>\n",
       "      <td>Fulham Football Club</td>\n",
       "      <td>Watford FC</td>\n",
       "      <td>1.0</td>\n",
       "      <td>0.0</td>\n",
       "      <td>4</td>\n",
       "      <td>1</td>\n",
       "      <td>europe</td>\n",
       "    </tr>\n",
       "    <tr>\n",
       "      <th>143003</th>\n",
       "      <td>Panthessalonikios Athlitikos Omilos Konstantin...</td>\n",
       "      <td>Athlitiki Enosi Konstantinoupoleos</td>\n",
       "      <td>1.0</td>\n",
       "      <td>0.0</td>\n",
       "      <td>1</td>\n",
       "      <td>1</td>\n",
       "      <td>europe</td>\n",
       "    </tr>\n",
       "    <tr>\n",
       "      <th>143004</th>\n",
       "      <td>Real Madrid Club de Fútbol</td>\n",
       "      <td>Real Club Deportivo Mallorca S.A.D.</td>\n",
       "      <td>1.0</td>\n",
       "      <td>0.0</td>\n",
       "      <td>3</td>\n",
       "      <td>0</td>\n",
       "      <td>europe</td>\n",
       "    </tr>\n",
       "  </tbody>\n",
       "</table>\n",
       "<p>143005 rows × 7 columns</p>\n",
       "</div>"
      ],
      "text/plain": [
       "                                                  team_id  \\\n",
       "0                                                Scotland   \n",
       "1                                                 England   \n",
       "2                                                Scotland   \n",
       "3                                                 England   \n",
       "4                                                Scotland   \n",
       "...                                                   ...   \n",
       "143000                             Sport Lisboa e Benfica   \n",
       "143001                    Panathinaikos Athlitikos Omilos   \n",
       "143002                               Fulham Football Club   \n",
       "143003  Panthessalonikios Athlitikos Omilos Konstantin...   \n",
       "143004                         Real Madrid Club de Fútbol   \n",
       "\n",
       "                                opponent_id  team_at_home  opponent_at_home  \\\n",
       "0                                   England           1.0               0.0   \n",
       "1                                  Scotland           1.0               0.0   \n",
       "2                                   England           1.0               0.0   \n",
       "3                                  Scotland           1.0               0.0   \n",
       "4                                   England           1.0               0.0   \n",
       "...                                     ...           ...               ...   \n",
       "143000              Sporting Clube de Braga           1.0               0.0   \n",
       "143001                APS Atromitos Athinon           1.0               0.0   \n",
       "143002                           Watford FC           1.0               0.0   \n",
       "143003   Athlitiki Enosi Konstantinoupoleos           1.0               0.0   \n",
       "143004  Real Club Deportivo Mallorca S.A.D.           1.0               0.0   \n",
       "\n",
       "        team_score  opponent_score           fold  \n",
       "0                0               0  international  \n",
       "1                4               2  international  \n",
       "2                2               1  international  \n",
       "3                2               2  international  \n",
       "4                3               0  international  \n",
       "...            ...             ...            ...  \n",
       "143000           3               0         europe  \n",
       "143001           2               1         europe  \n",
       "143002           4               1         europe  \n",
       "143003           1               1         europe  \n",
       "143004           3               0         europe  \n",
       "\n",
       "[143005 rows x 7 columns]"
      ]
     },
     "execution_count": 4,
     "metadata": {},
     "output_type": "execute_result"
    }
   ],
   "source": [
    "dataset"
   ]
  },
  {
   "cell_type": "code",
   "execution_count": 26,
   "id": "916db409-9f36-4534-b4f4-9e6c469ef52a",
   "metadata": {},
   "outputs": [],
   "source": [
    "model = DualEmbPredictor(embedding_dim=15, hidden_dim=4, num_epochs=50)"
   ]
  },
  {
   "cell_type": "code",
   "execution_count": 27,
   "id": "d3a949b5-f3de-4d92-8032-46dcdc0bb7a5",
   "metadata": {},
   "outputs": [],
   "source": [
    "X = dataset[[\"team_id\", \"opponent_id\", \"team_at_home\", \"opponent_at_home\"]]\n",
    "y = dataset[[\"team_score\", \"opponent_score\"]]"
   ]
  },
  {
   "cell_type": "code",
   "execution_count": 28,
   "id": "87ecb118-31ff-4afd-bd97-85b6fd82bfcc",
   "metadata": {},
   "outputs": [
    {
     "name": "stdout",
     "output_type": "stream",
     "text": [
      "Epoch 1/50\n"
     ]
    },
    {
     "name": "stderr",
     "output_type": "stream",
     "text": [
      "100%|██████████████████████████████████████████████████████████████████████████████████████████████████████████████████████████████████████████████████████████| 4022/4022 [00:07<00:00, 514.52it/s, loss=1.3115]\n"
     ]
    },
    {
     "name": "stdout",
     "output_type": "stream",
     "text": [
      "Validation Loss: 1.7720\n",
      "Epoch 2/50\n"
     ]
    },
    {
     "name": "stderr",
     "output_type": "stream",
     "text": [
      "100%|██████████████████████████████████████████████████████████████████████████████████████████████████████████████████████████████████████████████████████████| 4022/4022 [00:07<00:00, 517.71it/s, loss=1.1544]\n"
     ]
    },
    {
     "name": "stdout",
     "output_type": "stream",
     "text": [
      "Validation Loss: 1.6667\n",
      "Epoch 3/50\n"
     ]
    },
    {
     "name": "stderr",
     "output_type": "stream",
     "text": [
      "100%|██████████████████████████████████████████████████████████████████████████████████████████████████████████████████████████████████████████████████████████| 4022/4022 [00:08<00:00, 498.67it/s, loss=1.1357]\n"
     ]
    },
    {
     "name": "stdout",
     "output_type": "stream",
     "text": [
      "Validation Loss: 1.6315\n",
      "Epoch 4/50\n"
     ]
    },
    {
     "name": "stderr",
     "output_type": "stream",
     "text": [
      "100%|██████████████████████████████████████████████████████████████████████████████████████████████████████████████████████████████████████████████████████████| 4022/4022 [00:07<00:00, 569.83it/s, loss=1.1464]\n"
     ]
    },
    {
     "name": "stdout",
     "output_type": "stream",
     "text": [
      "Validation Loss: 1.6159\n",
      "Epoch 5/50\n"
     ]
    },
    {
     "name": "stderr",
     "output_type": "stream",
     "text": [
      "100%|██████████████████████████████████████████████████████████████████████████████████████████████████████████████████████████████████████████████████████████| 4022/4022 [00:07<00:00, 522.42it/s, loss=1.1610]\n"
     ]
    },
    {
     "name": "stdout",
     "output_type": "stream",
     "text": [
      "Validation Loss: 1.6066\n",
      "Epoch 6/50\n"
     ]
    },
    {
     "name": "stderr",
     "output_type": "stream",
     "text": [
      "100%|██████████████████████████████████████████████████████████████████████████████████████████████████████████████████████████████████████████████████████████| 4022/4022 [00:07<00:00, 510.11it/s, loss=1.1616]\n"
     ]
    },
    {
     "name": "stdout",
     "output_type": "stream",
     "text": [
      "Validation Loss: 1.6009\n",
      "Epoch 7/50\n"
     ]
    },
    {
     "name": "stderr",
     "output_type": "stream",
     "text": [
      "100%|██████████████████████████████████████████████████████████████████████████████████████████████████████████████████████████████████████████████████████████| 4022/4022 [00:07<00:00, 517.58it/s, loss=1.1647]\n"
     ]
    },
    {
     "name": "stdout",
     "output_type": "stream",
     "text": [
      "Validation Loss: 1.5972\n",
      "Epoch 8/50\n"
     ]
    },
    {
     "name": "stderr",
     "output_type": "stream",
     "text": [
      "100%|██████████████████████████████████████████████████████████████████████████████████████████████████████████████████████████████████████████████████████████| 4022/4022 [00:07<00:00, 565.61it/s, loss=1.1686]\n"
     ]
    },
    {
     "name": "stdout",
     "output_type": "stream",
     "text": [
      "Validation Loss: 1.5949\n",
      "Epoch 9/50\n"
     ]
    },
    {
     "name": "stderr",
     "output_type": "stream",
     "text": [
      "100%|██████████████████████████████████████████████████████████████████████████████████████████████████████████████████████████████████████████████████████████| 4022/4022 [00:07<00:00, 508.80it/s, loss=1.1627]\n"
     ]
    },
    {
     "name": "stdout",
     "output_type": "stream",
     "text": [
      "Validation Loss: 1.5933\n",
      "Epoch 10/50\n"
     ]
    },
    {
     "name": "stderr",
     "output_type": "stream",
     "text": [
      "100%|██████████████████████████████████████████████████████████████████████████████████████████████████████████████████████████████████████████████████████████| 4022/4022 [00:08<00:00, 499.65it/s, loss=1.1677]\n"
     ]
    },
    {
     "name": "stdout",
     "output_type": "stream",
     "text": [
      "Validation Loss: 1.5919\n",
      "Epoch 11/50\n"
     ]
    },
    {
     "name": "stderr",
     "output_type": "stream",
     "text": [
      "100%|██████████████████████████████████████████████████████████████████████████████████████████████████████████████████████████████████████████████████████████| 4022/4022 [00:07<00:00, 540.92it/s, loss=1.1687]\n"
     ]
    },
    {
     "name": "stdout",
     "output_type": "stream",
     "text": [
      "Validation Loss: 1.5910\n",
      "Epoch 12/50\n"
     ]
    },
    {
     "name": "stderr",
     "output_type": "stream",
     "text": [
      "100%|██████████████████████████████████████████████████████████████████████████████████████████████████████████████████████████████████████████████████████████| 4022/4022 [00:07<00:00, 554.67it/s, loss=1.1657]\n"
     ]
    },
    {
     "name": "stdout",
     "output_type": "stream",
     "text": [
      "Validation Loss: 1.5902\n",
      "Epoch 13/50\n"
     ]
    },
    {
     "name": "stderr",
     "output_type": "stream",
     "text": [
      "100%|██████████████████████████████████████████████████████████████████████████████████████████████████████████████████████████████████████████████████████████| 4022/4022 [00:08<00:00, 491.83it/s, loss=1.1661]\n"
     ]
    },
    {
     "name": "stdout",
     "output_type": "stream",
     "text": [
      "Validation Loss: 1.5895\n",
      "Epoch 14/50\n"
     ]
    },
    {
     "name": "stderr",
     "output_type": "stream",
     "text": [
      "100%|██████████████████████████████████████████████████████████████████████████████████████████████████████████████████████████████████████████████████████████| 4022/4022 [00:08<00:00, 472.78it/s, loss=1.1683]\n"
     ]
    },
    {
     "name": "stdout",
     "output_type": "stream",
     "text": [
      "Validation Loss: 1.5891\n",
      "Epoch 15/50\n"
     ]
    },
    {
     "name": "stderr",
     "output_type": "stream",
     "text": [
      "100%|██████████████████████████████████████████████████████████████████████████████████████████████████████████████████████████████████████████████████████████| 4022/4022 [00:09<00:00, 432.22it/s, loss=1.1673]\n"
     ]
    },
    {
     "name": "stdout",
     "output_type": "stream",
     "text": [
      "Validation Loss: 1.5889\n",
      "Epoch 16/50\n"
     ]
    },
    {
     "name": "stderr",
     "output_type": "stream",
     "text": [
      "100%|██████████████████████████████████████████████████████████████████████████████████████████████████████████████████████████████████████████████████████████| 4022/4022 [00:09<00:00, 405.95it/s, loss=1.1704]\n"
     ]
    },
    {
     "name": "stdout",
     "output_type": "stream",
     "text": [
      "Validation Loss: 1.5887\n",
      "Epoch 17/50\n"
     ]
    },
    {
     "name": "stderr",
     "output_type": "stream",
     "text": [
      "100%|██████████████████████████████████████████████████████████████████████████████████████████████████████████████████████████████████████████████████████████| 4022/4022 [00:11<00:00, 364.08it/s, loss=1.1713]\n"
     ]
    },
    {
     "name": "stdout",
     "output_type": "stream",
     "text": [
      "Validation Loss: 1.5887\n",
      "Epoch 18/50\n"
     ]
    },
    {
     "name": "stderr",
     "output_type": "stream",
     "text": [
      "100%|██████████████████████████████████████████████████████████████████████████████████████████████████████████████████████████████████████████████████████████| 4022/4022 [00:09<00:00, 427.23it/s, loss=1.1724]\n"
     ]
    },
    {
     "name": "stdout",
     "output_type": "stream",
     "text": [
      "Validation Loss: 1.5881\n",
      "Epoch 19/50\n"
     ]
    },
    {
     "name": "stderr",
     "output_type": "stream",
     "text": [
      "100%|██████████████████████████████████████████████████████████████████████████████████████████████████████████████████████████████████████████████████████████| 4022/4022 [00:08<00:00, 491.16it/s, loss=1.1756]\n"
     ]
    },
    {
     "name": "stdout",
     "output_type": "stream",
     "text": [
      "Validation Loss: 1.5883\n",
      "Epoch 20/50\n"
     ]
    },
    {
     "name": "stderr",
     "output_type": "stream",
     "text": [
      "100%|██████████████████████████████████████████████████████████████████████████████████████████████████████████████████████████████████████████████████████████| 4022/4022 [00:08<00:00, 458.10it/s, loss=1.1771]\n"
     ]
    },
    {
     "name": "stdout",
     "output_type": "stream",
     "text": [
      "Validation Loss: 1.5877\n",
      "Epoch 21/50\n"
     ]
    },
    {
     "name": "stderr",
     "output_type": "stream",
     "text": [
      "100%|██████████████████████████████████████████████████████████████████████████████████████████████████████████████████████████████████████████████████████████| 4022/4022 [00:08<00:00, 448.59it/s, loss=1.1745]\n"
     ]
    },
    {
     "name": "stdout",
     "output_type": "stream",
     "text": [
      "Validation Loss: 1.5871\n",
      "Epoch 22/50\n"
     ]
    },
    {
     "name": "stderr",
     "output_type": "stream",
     "text": [
      "100%|██████████████████████████████████████████████████████████████████████████████████████████████████████████████████████████████████████████████████████████| 4022/4022 [00:09<00:00, 418.19it/s, loss=1.1730]\n"
     ]
    },
    {
     "name": "stdout",
     "output_type": "stream",
     "text": [
      "Validation Loss: 1.5868\n",
      "Epoch 23/50\n"
     ]
    },
    {
     "name": "stderr",
     "output_type": "stream",
     "text": [
      "100%|██████████████████████████████████████████████████████████████████████████████████████████████████████████████████████████████████████████████████████████| 4022/4022 [00:08<00:00, 460.80it/s, loss=1.1731]\n"
     ]
    },
    {
     "name": "stdout",
     "output_type": "stream",
     "text": [
      "Validation Loss: 1.5867\n",
      "Epoch 24/50\n"
     ]
    },
    {
     "name": "stderr",
     "output_type": "stream",
     "text": [
      "100%|██████████████████████████████████████████████████████████████████████████████████████████████████████████████████████████████████████████████████████████| 4022/4022 [00:10<00:00, 393.48it/s, loss=1.1712]\n"
     ]
    },
    {
     "name": "stdout",
     "output_type": "stream",
     "text": [
      "Validation Loss: 1.5865\n",
      "Epoch 25/50\n"
     ]
    },
    {
     "name": "stderr",
     "output_type": "stream",
     "text": [
      "100%|██████████████████████████████████████████████████████████████████████████████████████████████████████████████████████████████████████████████████████████| 4022/4022 [00:10<00:00, 379.45it/s, loss=1.1709]\n"
     ]
    },
    {
     "name": "stdout",
     "output_type": "stream",
     "text": [
      "Validation Loss: 1.5868\n",
      "Epoch 26/50\n"
     ]
    },
    {
     "name": "stderr",
     "output_type": "stream",
     "text": [
      "100%|██████████████████████████████████████████████████████████████████████████████████████████████████████████████████████████████████████████████████████████| 4022/4022 [00:09<00:00, 432.88it/s, loss=1.1716]\n"
     ]
    },
    {
     "name": "stdout",
     "output_type": "stream",
     "text": [
      "Validation Loss: 1.5866\n",
      "Epoch 27/50\n"
     ]
    },
    {
     "name": "stderr",
     "output_type": "stream",
     "text": [
      "100%|██████████████████████████████████████████████████████████████████████████████████████████████████████████████████████████████████████████████████████████| 4022/4022 [00:07<00:00, 510.37it/s, loss=1.1722]\n"
     ]
    },
    {
     "name": "stdout",
     "output_type": "stream",
     "text": [
      "Validation Loss: 1.5868\n",
      "Epoch 28/50\n"
     ]
    },
    {
     "name": "stderr",
     "output_type": "stream",
     "text": [
      "100%|██████████████████████████████████████████████████████████████████████████████████████████████████████████████████████████████████████████████████████████| 4022/4022 [00:08<00:00, 478.66it/s, loss=1.1744]\n"
     ]
    },
    {
     "name": "stdout",
     "output_type": "stream",
     "text": [
      "Validation Loss: 1.5870\n",
      "Epoch 29/50\n"
     ]
    },
    {
     "name": "stderr",
     "output_type": "stream",
     "text": [
      "100%|██████████████████████████████████████████████████████████████████████████████████████████████████████████████████████████████████████████████████████████| 4022/4022 [00:08<00:00, 473.75it/s, loss=1.1759]\n"
     ]
    },
    {
     "name": "stdout",
     "output_type": "stream",
     "text": [
      "Validation Loss: 1.5869\n",
      "Epoch 30/50\n"
     ]
    },
    {
     "name": "stderr",
     "output_type": "stream",
     "text": [
      "100%|██████████████████████████████████████████████████████████████████████████████████████████████████████████████████████████████████████████████████████████| 4022/4022 [00:09<00:00, 440.79it/s, loss=1.1759]\n"
     ]
    },
    {
     "name": "stdout",
     "output_type": "stream",
     "text": [
      "Validation Loss: 1.5870\n",
      "Epoch 31/50\n"
     ]
    },
    {
     "name": "stderr",
     "output_type": "stream",
     "text": [
      "100%|██████████████████████████████████████████████████████████████████████████████████████████████████████████████████████████████████████████████████████████| 4022/4022 [00:10<00:00, 399.29it/s, loss=1.1768]\n"
     ]
    },
    {
     "name": "stdout",
     "output_type": "stream",
     "text": [
      "Validation Loss: 1.5874\n",
      "Epoch 32/50\n"
     ]
    },
    {
     "name": "stderr",
     "output_type": "stream",
     "text": [
      "100%|██████████████████████████████████████████████████████████████████████████████████████████████████████████████████████████████████████████████████████████| 4022/4022 [00:08<00:00, 446.91it/s, loss=1.1779]\n"
     ]
    },
    {
     "name": "stdout",
     "output_type": "stream",
     "text": [
      "Validation Loss: 1.5874\n",
      "Epoch 33/50\n"
     ]
    },
    {
     "name": "stderr",
     "output_type": "stream",
     "text": [
      "100%|██████████████████████████████████████████████████████████████████████████████████████████████████████████████████████████████████████████████████████████| 4022/4022 [00:07<00:00, 507.30it/s, loss=1.1785]\n"
     ]
    },
    {
     "name": "stdout",
     "output_type": "stream",
     "text": [
      "Validation Loss: 1.5879\n",
      "Epoch 34/50\n"
     ]
    },
    {
     "name": "stderr",
     "output_type": "stream",
     "text": [
      "100%|██████████████████████████████████████████████████████████████████████████████████████████████████████████████████████████████████████████████████████████| 4022/4022 [00:08<00:00, 492.95it/s, loss=1.1790]\n"
     ]
    },
    {
     "name": "stdout",
     "output_type": "stream",
     "text": [
      "Validation Loss: 1.5879\n",
      "Epoch 35/50\n"
     ]
    },
    {
     "name": "stderr",
     "output_type": "stream",
     "text": [
      "100%|██████████████████████████████████████████████████████████████████████████████████████████████████████████████████████████████████████████████████████████| 4022/4022 [00:08<00:00, 479.96it/s, loss=1.1778]\n"
     ]
    },
    {
     "name": "stdout",
     "output_type": "stream",
     "text": [
      "Validation Loss: 1.5881\n",
      "Epoch 36/50\n"
     ]
    },
    {
     "name": "stderr",
     "output_type": "stream",
     "text": [
      "100%|██████████████████████████████████████████████████████████████████████████████████████████████████████████████████████████████████████████████████████████| 4022/4022 [00:09<00:00, 426.59it/s, loss=1.1794]\n"
     ]
    },
    {
     "name": "stdout",
     "output_type": "stream",
     "text": [
      "Validation Loss: 1.5885\n",
      "Epoch 37/50\n"
     ]
    },
    {
     "name": "stderr",
     "output_type": "stream",
     "text": [
      "100%|██████████████████████████████████████████████████████████████████████████████████████████████████████████████████████████████████████████████████████████| 4022/4022 [00:09<00:00, 442.88it/s, loss=1.1802]\n"
     ]
    },
    {
     "name": "stdout",
     "output_type": "stream",
     "text": [
      "Validation Loss: 1.5888\n",
      "Epoch 38/50\n"
     ]
    },
    {
     "name": "stderr",
     "output_type": "stream",
     "text": [
      "100%|██████████████████████████████████████████████████████████████████████████████████████████████████████████████████████████████████████████████████████████| 4022/4022 [00:09<00:00, 432.99it/s, loss=1.1817]\n"
     ]
    },
    {
     "name": "stdout",
     "output_type": "stream",
     "text": [
      "Validation Loss: 1.5887\n",
      "Epoch 39/50\n"
     ]
    },
    {
     "name": "stderr",
     "output_type": "stream",
     "text": [
      "100%|██████████████████████████████████████████████████████████████████████████████████████████████████████████████████████████████████████████████████████████| 4022/4022 [00:09<00:00, 445.87it/s, loss=1.1819]\n"
     ]
    },
    {
     "name": "stdout",
     "output_type": "stream",
     "text": [
      "Validation Loss: 1.5889\n",
      "Epoch 40/50\n"
     ]
    },
    {
     "name": "stderr",
     "output_type": "stream",
     "text": [
      "100%|██████████████████████████████████████████████████████████████████████████████████████████████████████████████████████████████████████████████████████████| 4022/4022 [00:07<00:00, 514.27it/s, loss=1.1844]\n"
     ]
    },
    {
     "name": "stdout",
     "output_type": "stream",
     "text": [
      "Validation Loss: 1.5888\n",
      "Epoch 41/50\n"
     ]
    },
    {
     "name": "stderr",
     "output_type": "stream",
     "text": [
      "100%|██████████████████████████████████████████████████████████████████████████████████████████████████████████████████████████████████████████████████████████| 4022/4022 [00:08<00:00, 461.83it/s, loss=1.1862]\n"
     ]
    },
    {
     "name": "stdout",
     "output_type": "stream",
     "text": [
      "Validation Loss: 1.5891\n",
      "Epoch 42/50\n"
     ]
    },
    {
     "name": "stderr",
     "output_type": "stream",
     "text": [
      "100%|██████████████████████████████████████████████████████████████████████████████████████████████████████████████████████████████████████████████████████████| 4022/4022 [00:08<00:00, 458.48it/s, loss=1.1869]\n"
     ]
    },
    {
     "name": "stdout",
     "output_type": "stream",
     "text": [
      "Validation Loss: 1.5891\n",
      "Epoch 43/50\n"
     ]
    },
    {
     "name": "stderr",
     "output_type": "stream",
     "text": [
      "100%|██████████████████████████████████████████████████████████████████████████████████████████████████████████████████████████████████████████████████████████| 4022/4022 [00:08<00:00, 482.83it/s, loss=1.1888]\n"
     ]
    },
    {
     "name": "stdout",
     "output_type": "stream",
     "text": [
      "Validation Loss: 1.5892\n",
      "Epoch 44/50\n"
     ]
    },
    {
     "name": "stderr",
     "output_type": "stream",
     "text": [
      "100%|██████████████████████████████████████████████████████████████████████████████████████████████████████████████████████████████████████████████████████████| 4022/4022 [00:09<00:00, 431.15it/s, loss=1.1883]\n"
     ]
    },
    {
     "name": "stdout",
     "output_type": "stream",
     "text": [
      "Validation Loss: 1.5895\n",
      "Epoch 45/50\n"
     ]
    },
    {
     "name": "stderr",
     "output_type": "stream",
     "text": [
      "100%|██████████████████████████████████████████████████████████████████████████████████████████████████████████████████████████████████████████████████████████| 4022/4022 [00:08<00:00, 460.42it/s, loss=1.1924]\n"
     ]
    },
    {
     "name": "stdout",
     "output_type": "stream",
     "text": [
      "Validation Loss: 1.5896\n",
      "Epoch 46/50\n"
     ]
    },
    {
     "name": "stderr",
     "output_type": "stream",
     "text": [
      "100%|██████████████████████████████████████████████████████████████████████████████████████████████████████████████████████████████████████████████████████████| 4022/4022 [00:09<00:00, 446.29it/s, loss=1.1884]\n"
     ]
    },
    {
     "name": "stdout",
     "output_type": "stream",
     "text": [
      "Validation Loss: 1.5894\n",
      "Epoch 47/50\n"
     ]
    },
    {
     "name": "stderr",
     "output_type": "stream",
     "text": [
      "100%|██████████████████████████████████████████████████████████████████████████████████████████████████████████████████████████████████████████████████████████| 4022/4022 [00:09<00:00, 434.40it/s, loss=1.1887]\n"
     ]
    },
    {
     "name": "stdout",
     "output_type": "stream",
     "text": [
      "Validation Loss: 1.5896\n",
      "Epoch 48/50\n"
     ]
    },
    {
     "name": "stderr",
     "output_type": "stream",
     "text": [
      "100%|██████████████████████████████████████████████████████████████████████████████████████████████████████████████████████████████████████████████████████████| 4022/4022 [00:10<00:00, 392.39it/s, loss=1.1893]\n"
     ]
    },
    {
     "name": "stdout",
     "output_type": "stream",
     "text": [
      "Validation Loss: 1.5896\n",
      "Epoch 49/50\n"
     ]
    },
    {
     "name": "stderr",
     "output_type": "stream",
     "text": [
      "100%|██████████████████████████████████████████████████████████████████████████████████████████████████████████████████████████████████████████████████████████| 4022/4022 [00:10<00:00, 400.92it/s, loss=1.1898]\n"
     ]
    },
    {
     "name": "stdout",
     "output_type": "stream",
     "text": [
      "Validation Loss: 1.5893\n",
      "Epoch 50/50\n"
     ]
    },
    {
     "name": "stderr",
     "output_type": "stream",
     "text": [
      "100%|██████████████████████████████████████████████████████████████████████████████████████████████████████████████████████████████████████████████████████████| 4022/4022 [00:10<00:00, 400.38it/s, loss=1.1904]\n"
     ]
    },
    {
     "name": "stdout",
     "output_type": "stream",
     "text": [
      "Validation Loss: 1.5897\n"
     ]
    }
   ],
   "source": [
    "model.fit(X, y, validation_set=0.1)"
   ]
  },
  {
   "cell_type": "code",
   "execution_count": 29,
   "id": "330ae7a7-c46c-4739-8f59-20524fad61ac",
   "metadata": {},
   "outputs": [
    {
     "data": {
      "text/plain": [
       "array([[0.35276479, 0.2944703 , 0.3527649 ]])"
      ]
     },
     "execution_count": 29,
     "metadata": {},
     "output_type": "execute_result"
    }
   ],
   "source": [
    "model.logit.model.predict(\n",
    "    model.logit.params, exog=pd.DataFrame(data=[{\"predicted_score_difference\": 0.0}])\n",
    ")"
   ]
  },
  {
   "cell_type": "code",
   "execution_count": 30,
   "id": "1f87f62a-89da-4cad-8d0d-1ba3802c08ec",
   "metadata": {},
   "outputs": [
    {
     "data": {
      "text/plain": [
       "array([[0.35276479, 0.2944703 , 0.3527649 ]])"
      ]
     },
     "execution_count": 30,
     "metadata": {},
     "output_type": "execute_result"
    }
   ],
   "source": [
    "model.predict(\n",
    "    pd.DataFrame(\n",
    "        [\n",
    "            {\n",
    "                \"team_id\": \"Brazil\",\n",
    "                \"opponent_id\": \"Argentina\",\n",
    "                \"team_at_home\": 0.0,\n",
    "                \"opponent_at_home\": 0.0,\n",
    "            },\n",
    "        ]\n",
    "    )\n",
    ")"
   ]
  },
  {
   "cell_type": "code",
   "execution_count": 31,
   "id": "73786aca-fd37-4df0-aac6-b4b65e114a4c",
   "metadata": {},
   "outputs": [
    {
     "data": {
      "text/plain": [
       "array([[0.35276479, 0.2944703 , 0.3527649 ]])"
      ]
     },
     "execution_count": 31,
     "metadata": {},
     "output_type": "execute_result"
    }
   ],
   "source": [
    "model.predict(\n",
    "    pd.DataFrame(\n",
    "        [\n",
    "            {\n",
    "                \"team_id\": \"Argentina\",\n",
    "                \"opponent_id\": \"Brazil\",\n",
    "                \"team_at_home\": 0.0,\n",
    "                \"opponent_at_home\": 0.0,\n",
    "            },\n",
    "        ]\n",
    "    )\n",
    ")"
   ]
  },
  {
   "cell_type": "code",
   "execution_count": 32,
   "id": "6aee77bf-a7ea-47ec-a5b1-44f7041c5598",
   "metadata": {},
   "outputs": [
    {
     "data": {
      "text/plain": [
       "array([[0.35276479, 0.2944703 , 0.3527649 ]])"
      ]
     },
     "execution_count": 32,
     "metadata": {},
     "output_type": "execute_result"
    }
   ],
   "source": [
    "model.predict(\n",
    "    pd.DataFrame(\n",
    "        [\n",
    "            {\n",
    "                \"team_id\": random.random(),\n",
    "                \"opponent_id\": random.random(),\n",
    "                \"team_at_home\": 0.0,\n",
    "                \"opponent_at_home\": 0.0,\n",
    "            },\n",
    "        ]\n",
    "    )\n",
    ")"
   ]
  },
  {
   "cell_type": "code",
   "execution_count": 33,
   "id": "afec20de-bfbe-48f1-9c78-5d899bdb8740",
   "metadata": {},
   "outputs": [
    {
     "data": {
      "text/plain": [
       "array([[0.4803569 , 0.27644094, 0.24320216]])"
      ]
     },
     "execution_count": 33,
     "metadata": {},
     "output_type": "execute_result"
    }
   ],
   "source": [
    "model.predict(\n",
    "    pd.DataFrame(\n",
    "        [\n",
    "            {\n",
    "                \"team_id\": random.random(),\n",
    "                \"opponent_id\": random.random(),\n",
    "                \"team_at_home\": 1.0,\n",
    "                \"opponent_at_home\": 0.0,\n",
    "            },\n",
    "        ]\n",
    "    )\n",
    ")"
   ]
  },
  {
   "cell_type": "code",
   "execution_count": 38,
   "id": "b6129b78-d6f9-4e19-8b68-cf4ff22e2ffa",
   "metadata": {},
   "outputs": [
    {
     "data": {
      "text/plain": [
       "array([[0.24320207, 0.27644091, 0.48035702]])"
      ]
     },
     "execution_count": 38,
     "metadata": {},
     "output_type": "execute_result"
    }
   ],
   "source": [
    "model.predict(\n",
    "    pd.DataFrame(\n",
    "        [\n",
    "            {\n",
    "                \"team_id\": random.random(),\n",
    "                \"opponent_id\": random.random(),\n",
    "                \"team_at_home\": 0.0,\n",
    "                \"opponent_at_home\": 1.0,\n",
    "            },\n",
    "        ]\n",
    "    )\n",
    ")"
   ]
  },
  {
   "cell_type": "code",
   "execution_count": 40,
   "id": "af018203-2c42-4edb-a685-67adf1316d86",
   "metadata": {},
   "outputs": [
    {
     "data": {
      "text/plain": [
       "array([[0.35276479, 0.2944703 , 0.3527649 ]])"
      ]
     },
     "execution_count": 40,
     "metadata": {},
     "output_type": "execute_result"
    }
   ],
   "source": [
    "model.predict(\n",
    "    pd.DataFrame(\n",
    "        [\n",
    "            {\n",
    "                \"team_id\": \"Brazil\",\n",
    "                \"opponent_id\": str(random.random()),\n",
    "                \"team_at_home\": 0.0,\n",
    "                \"opponent_at_home\": 0.0,\n",
    "            },\n",
    "        ]\n",
    "    )\n",
    ")"
   ]
  },
  {
   "cell_type": "code",
   "execution_count": 41,
   "id": "6b026ec5-33ab-424b-bd9d-b92b151fa0e5",
   "metadata": {},
   "outputs": [
    {
     "data": {
      "text/plain": [
       "array([[0.35276479, 0.2944703 , 0.3527649 ]])"
      ]
     },
     "execution_count": 41,
     "metadata": {},
     "output_type": "execute_result"
    }
   ],
   "source": [
    "model.predict(\n",
    "    pd.DataFrame(\n",
    "        [\n",
    "            {\n",
    "                \"team_id\": \"Brazil\",\n",
    "                \"opponent_id\": str(random.random()),\n",
    "                \"team_at_home\": 0.0,\n",
    "                \"opponent_at_home\": 0.0,\n",
    "            },\n",
    "        ]\n",
    "    )\n",
    ")"
   ]
  },
  {
   "cell_type": "code",
   "execution_count": 59,
   "id": "9bb16006-44d2-435e-bb03-ea19d9141ff3",
   "metadata": {},
   "outputs": [
    {
     "data": {
      "text/plain": [
       "array([[0.36784741, 0.29418251, 0.33797008]])"
      ]
     },
     "execution_count": 59,
     "metadata": {},
     "output_type": "execute_result"
    }
   ],
   "source": [
    "model.predict_and_update(\n",
    "    pd.DataFrame(\n",
    "        [\n",
    "            {\n",
    "                \"team_id\": \"Brazil\",\n",
    "                \"opponent_id\": \"Argentina\",\n",
    "                \"team_at_home\": 0.0,\n",
    "                \"opponent_at_home\": 0.0,\n",
    "            },\n",
    "        ]\n",
    "    ),\n",
    "    pd.DataFrame(\n",
    "        [\n",
    "            {\n",
    "                \"team_score\": 4,\n",
    "                \"opponent_score\": 0,\n",
    "            },\n",
    "        ]\n",
    "    ),\n",
    ")"
   ]
  },
  {
   "cell_type": "code",
   "execution_count": 74,
   "id": "b5f3c2b1-f37a-44ad-ab9b-62f1b3c4d43f",
   "metadata": {},
   "outputs": [
    {
     "data": {
      "text/plain": [
       "array([[0.35276479, 0.2944703 , 0.3527649 ]])"
      ]
     },
     "execution_count": 74,
     "metadata": {},
     "output_type": "execute_result"
    }
   ],
   "source": [
    "model.predict(\n",
    "    pd.DataFrame(\n",
    "        [\n",
    "            {\n",
    "                \"team_id\": \"Brazil\",\n",
    "                \"opponent_id\": \"Argentina\",\n",
    "                \"team_at_home\": 0.0,\n",
    "                \"opponent_at_home\": 0.0,\n",
    "            },\n",
    "        ]\n",
    "    )\n",
    ")"
   ]
  },
  {
   "cell_type": "code",
   "execution_count": 62,
   "id": "91e2c72d-c323-4bbf-84ef-fd4f027d48de",
   "metadata": {},
   "outputs": [
    {
     "data": {
      "text/plain": [
       "{'Argentina': [0.07052040100097656,\n",
       "  0.0033375637140125036,\n",
       "  -0.16607806086540222,\n",
       "  0.033257219940423965,\n",
       "  0.049469925463199615,\n",
       "  -0.029851600527763367,\n",
       "  0.38327550888061523,\n",
       "  -0.02096114121377468,\n",
       "  0.07528633624315262,\n",
       "  -0.021107180044054985,\n",
       "  0.04682726413011551,\n",
       "  0.0033649003598839045,\n",
       "  -0.05041544511914253,\n",
       "  0.32453086972236633,\n",
       "  -0.014284412376582623],\n",
       " 'Brazil': [0.07052040100097656,\n",
       "  0.0033375637140125036,\n",
       "  -0.16607806086540222,\n",
       "  0.033257219940423965,\n",
       "  0.049469925463199615,\n",
       "  -0.029851600527763367,\n",
       "  0.38327550888061523,\n",
       "  -0.02096114121377468,\n",
       "  0.07528633624315262,\n",
       "  -0.021107180044054985,\n",
       "  0.04682726413011551,\n",
       "  0.0033649003598839045,\n",
       "  -0.05041544511914253,\n",
       "  0.32453086972236633,\n",
       "  -0.014284412376582623]}"
      ]
     },
     "execution_count": 62,
     "metadata": {},
     "output_type": "execute_result"
    }
   ],
   "source": [
    "model.embeddings"
   ]
  },
  {
   "cell_type": "code",
   "execution_count": 78,
   "id": "2bc465cf-97d3-4c52-80c1-eabee2411183",
   "metadata": {},
   "outputs": [
    {
     "data": {
      "text/plain": [
       "array([[0.36784741, 0.29418251, 0.33797008]])"
      ]
     },
     "execution_count": 78,
     "metadata": {},
     "output_type": "execute_result"
    }
   ],
   "source": [
    "model.predict_and_update(\n",
    "    pd.DataFrame(\n",
    "        [\n",
    "            {\n",
    "                \"team_id\": \"Brazil\",\n",
    "                \"opponent_id\": \"Argentina\",\n",
    "                \"team_at_home\": 0.0,\n",
    "                \"opponent_at_home\": 0.0,\n",
    "            },\n",
    "        ]\n",
    "    ),\n",
    "    pd.DataFrame(\n",
    "        [\n",
    "            {\n",
    "                \"team_score\": 0,\n",
    "                \"opponent_score\": 10,\n",
    "            },\n",
    "        ]\n",
    "    ),\n",
    ")"
   ]
  },
  {
   "cell_type": "code",
   "execution_count": 79,
   "id": "b55ec05b-be10-41e9-a694-c3b84d71abbb",
   "metadata": {},
   "outputs": [
    {
     "data": {
      "text/plain": [
       "{'Argentina': [0.07052040100097656,\n",
       "  0.0033375637140125036,\n",
       "  -0.16607806086540222,\n",
       "  0.033257219940423965,\n",
       "  0.049469925463199615,\n",
       "  -0.029851600527763367,\n",
       "  0.38327550888061523,\n",
       "  -0.02096114121377468,\n",
       "  0.07528633624315262,\n",
       "  -0.021107180044054985,\n",
       "  0.04682726413011551,\n",
       "  0.0033649003598839045,\n",
       "  -0.05041544511914253,\n",
       "  0.32453086972236633,\n",
       "  -0.014284412376582623],\n",
       " 'Brazil': [0.07052040100097656,\n",
       "  0.0033375637140125036,\n",
       "  -0.16607806086540222,\n",
       "  0.033257219940423965,\n",
       "  0.049469925463199615,\n",
       "  -0.029851600527763367,\n",
       "  0.38327550888061523,\n",
       "  -0.02096114121377468,\n",
       "  0.07528633624315262,\n",
       "  -0.021107180044054985,\n",
       "  0.04682726413011551,\n",
       "  0.0033649003598839045,\n",
       "  -0.05041544511914253,\n",
       "  0.32453086972236633,\n",
       "  -0.014284412376582623]}"
      ]
     },
     "execution_count": 79,
     "metadata": {},
     "output_type": "execute_result"
    }
   ],
   "source": [
    "model.embeddings"
   ]
  },
  {
   "cell_type": "code",
   "execution_count": null,
   "id": "7a426949-643b-47a8-833f-a034556cc0e9",
   "metadata": {},
   "outputs": [],
   "source": []
  }
 ],
 "metadata": {
  "kernelspec": {
   "display_name": "Python 3 (ipykernel)",
   "language": "python",
   "name": "python3"
  },
  "language_info": {
   "codemirror_mode": {
    "name": "ipython",
    "version": 3
   },
   "file_extension": ".py",
   "mimetype": "text/x-python",
   "name": "python",
   "nbconvert_exporter": "python",
   "pygments_lexer": "ipython3",
   "version": "3.12.3"
  }
 },
 "nbformat": 4,
 "nbformat_minor": 5
}
